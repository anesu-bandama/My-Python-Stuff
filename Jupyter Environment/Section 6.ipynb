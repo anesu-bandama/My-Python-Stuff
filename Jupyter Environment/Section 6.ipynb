{
 "cells": [
  {
   "cell_type": "code",
   "execution_count": 1,
   "id": "409fdb7a-a626-490f-ba4a-49753125fc88",
   "metadata": {},
   "outputs": [],
   "source": [
    "def say_hello():\n",
    "    print('Hello')"
   ]
  },
  {
   "cell_type": "code",
   "execution_count": 2,
   "id": "622608a9-95c9-4616-94a0-c86963ba2fce",
   "metadata": {},
   "outputs": [
    {
     "name": "stdout",
     "output_type": "stream",
     "text": [
      "Hello\n"
     ]
    }
   ],
   "source": [
    "say_hello()"
   ]
  },
  {
   "cell_type": "code",
   "execution_count": 3,
   "id": "b8202405-acaa-4655-9140-55a596647dca",
   "metadata": {},
   "outputs": [],
   "source": [
    "def hello(name = 'Default'):\n",
    "    print('hello '+ name)"
   ]
  },
  {
   "cell_type": "code",
   "execution_count": 4,
   "id": "d19737c0-fa8f-42e9-91df-448a3685a05a",
   "metadata": {},
   "outputs": [
    {
     "name": "stdout",
     "output_type": "stream",
     "text": [
      "hello Peter\n"
     ]
    }
   ],
   "source": [
    "hello('Peter')"
   ]
  },
  {
   "cell_type": "code",
   "execution_count": 5,
   "id": "15153db7-d3ac-4b03-b2d8-8f28482c564c",
   "metadata": {},
   "outputs": [
    {
     "name": "stdout",
     "output_type": "stream",
     "text": [
      "hello Default\n"
     ]
    }
   ],
   "source": [
    "hello()"
   ]
  },
  {
   "cell_type": "code",
   "execution_count": 6,
   "id": "6ed06326-1931-49f2-9668-4978906fa9ab",
   "metadata": {},
   "outputs": [],
   "source": [
    "def add_num(num1, num2):\n",
    "    return num1 + num2"
   ]
  },
  {
   "cell_type": "code",
   "execution_count": 7,
   "id": "9fdd5819-5679-4e96-97e6-c5b8716a9bd4",
   "metadata": {},
   "outputs": [],
   "source": [
    "result = add_num(1,3)"
   ]
  },
  {
   "cell_type": "code",
   "execution_count": 8,
   "id": "fda7697b-482c-4225-b75a-b4285cb71fa4",
   "metadata": {},
   "outputs": [
    {
     "data": {
      "text/plain": [
       "4"
      ]
     },
     "execution_count": 8,
     "metadata": {},
     "output_type": "execute_result"
    }
   ],
   "source": [
    "result"
   ]
  },
  {
   "cell_type": "code",
   "execution_count": 9,
   "id": "4aa8a884-1f38-47b5-aeca-7223141745b9",
   "metadata": {},
   "outputs": [],
   "source": [
    "def print_result(a,b):\n",
    "    print(a + b)"
   ]
  },
  {
   "cell_type": "code",
   "execution_count": 10,
   "id": "061fac09-6e33-42c2-9fd8-e9395cb6313c",
   "metadata": {},
   "outputs": [
    {
     "name": "stdout",
     "output_type": "stream",
     "text": [
      "35\n"
     ]
    }
   ],
   "source": [
    "print_result(10,25)"
   ]
  },
  {
   "cell_type": "code",
   "execution_count": 11,
   "id": "4f7f16f1-f661-4a05-9754-26fc0469ef0f",
   "metadata": {},
   "outputs": [],
   "source": [
    "work_hours = [('Abby',100),('Billy',400),('Cassie',800)]"
   ]
  },
  {
   "cell_type": "code",
   "execution_count": 12,
   "id": "c7f88cb8-95f2-4154-b6d8-f1ae7b892f52",
   "metadata": {},
   "outputs": [],
   "source": [
    "def employee_check(work_hours):\n",
    "    current_max = 0\n",
    "    employee_of_month = ''\n",
    "\n",
    "    for employee,hours in work_hours:\n",
    "        if hours > current_max:\n",
    "            current_max = hours\n",
    "            employee_of_month = employee\n",
    "        else:\n",
    "            pass\n",
    "            \n",
    "\n",
    "    return (employee_of_month,current_max)"
   ]
  },
  {
   "cell_type": "code",
   "execution_count": 13,
   "id": "016ab515-0ea9-4c63-85cb-6b52849b33dc",
   "metadata": {},
   "outputs": [],
   "source": [
    "name,hours = employee_check(work_hours)\n",
    "item = employee_check(work_hours)"
   ]
  },
  {
   "cell_type": "code",
   "execution_count": 14,
   "id": "44ef1316-bd89-432d-b7c6-a59f56d37c78",
   "metadata": {},
   "outputs": [
    {
     "data": {
      "text/plain": [
       "'Cassie'"
      ]
     },
     "execution_count": 14,
     "metadata": {},
     "output_type": "execute_result"
    }
   ],
   "source": [
    "name"
   ]
  },
  {
   "cell_type": "code",
   "execution_count": 15,
   "id": "bfda8993-07ed-49da-876a-0cf438fdacb4",
   "metadata": {},
   "outputs": [
    {
     "data": {
      "text/plain": [
       "800"
      ]
     },
     "execution_count": 15,
     "metadata": {},
     "output_type": "execute_result"
    }
   ],
   "source": [
    "hours"
   ]
  },
  {
   "cell_type": "code",
   "execution_count": 16,
   "id": "04ff3082-b269-45a6-b3e3-543993b4df76",
   "metadata": {},
   "outputs": [
    {
     "data": {
      "text/plain": [
       "('Cassie', 800)"
      ]
     },
     "execution_count": 16,
     "metadata": {},
     "output_type": "execute_result"
    }
   ],
   "source": [
    "item"
   ]
  },
  {
   "cell_type": "code",
   "execution_count": 17,
   "id": "8c5700bd-ee8f-425f-b910-9ee00fdc4ee1",
   "metadata": {},
   "outputs": [],
   "source": [
    "mylist = [' ','O',' ']\n",
    "from random import shuffle"
   ]
  },
  {
   "cell_type": "code",
   "execution_count": 18,
   "id": "ae87b584-27d8-454d-a7d0-c0790717eba4",
   "metadata": {},
   "outputs": [],
   "source": [
    "def player_guess():\n",
    "\n",
    "    guess = ''\n",
    "    while guess not in ['0','1','2']:\n",
    "        guess = input('Pick a number: 0, 1 or 2')\n",
    "\n",
    "    return int(guess)"
   ]
  },
  {
   "cell_type": "code",
   "execution_count": 19,
   "id": "0e3527d1-bb51-4d9c-9fb4-e42df6d1c247",
   "metadata": {},
   "outputs": [
    {
     "name": "stdin",
     "output_type": "stream",
     "text": [
      "Pick a number: 0, 1 or 2 2\n"
     ]
    },
    {
     "data": {
      "text/plain": [
       "2"
      ]
     },
     "execution_count": 19,
     "metadata": {},
     "output_type": "execute_result"
    }
   ],
   "source": [
    "player_guess()"
   ]
  },
  {
   "cell_type": "code",
   "execution_count": 20,
   "id": "ba8d745c-5877-4540-a064-89f0fdf220e1",
   "metadata": {},
   "outputs": [
    {
     "name": "stdin",
     "output_type": "stream",
     "text": [
      "Pick a number: 0, 1 or 2 1\n"
     ]
    }
   ],
   "source": [
    "myindex = player_guess()"
   ]
  },
  {
   "cell_type": "code",
   "execution_count": 21,
   "id": "2c0f9ade-9b18-49f8-a9f0-6af3dc84e80f",
   "metadata": {},
   "outputs": [
    {
     "data": {
      "text/plain": [
       "1"
      ]
     },
     "execution_count": 21,
     "metadata": {},
     "output_type": "execute_result"
    }
   ],
   "source": [
    "myindex"
   ]
  },
  {
   "cell_type": "code",
   "execution_count": 22,
   "id": "9758e56b-1902-43cf-9a1d-90e012a2a6e1",
   "metadata": {},
   "outputs": [],
   "source": [
    "def shuffle_list(mylist):\n",
    "    shuffle(mylist)\n",
    "    return mylist\n",
    "\n",
    "def check_guess(mylist,guess):\n",
    "    if mylist[guess] == 'O':\n",
    "        print('correct')\n",
    "    else:\n",
    "        print('Wrong guess')\n",
    "        print(mylist)"
   ]
  },
  {
   "cell_type": "code",
   "execution_count": 52,
   "id": "ad271e97-6703-4bb6-8386-91f15b5f8eca",
   "metadata": {},
   "outputs": [
    {
     "name": "stdin",
     "output_type": "stream",
     "text": [
      "Pick a number: 0, 1 or 2 9\n",
      "Pick a number: 0, 1 or 2 \n",
      "Pick a number: 0, 1 or 2 \n",
      "Pick a number: 0, 1 or 2 \n",
      "Pick a number: 0, 1 or 2 1\n"
     ]
    },
    {
     "name": "stdout",
     "output_type": "stream",
     "text": [
      "Wrong guess\n",
      "[' ', ' ', 'O']\n"
     ]
    }
   ],
   "source": [
    "\n",
    "\n",
    "mylist = [' ','O',' ']                             # initial list\n",
    "\n",
    "mixedup_list = shuffle_list(mylist)                # shuffle list\n",
    "\n",
    "guess = player_guess()                             # user guess\n",
    "\n",
    "check_guess(mixedup_list,guess)                    # check guess\n"
   ]
  },
  {
   "cell_type": "code",
   "execution_count": 54,
   "id": "27a4ee52-d09a-4a5d-9e34-d00e833fbb64",
   "metadata": {},
   "outputs": [],
   "source": [
    "def myfunc(*args):\n",
    "    return sum(args) * 0.05"
   ]
  },
  {
   "cell_type": "code",
   "execution_count": 56,
   "id": "dc5e8696-45df-4676-895e-e7b6419478a6",
   "metadata": {},
   "outputs": [
    {
     "data": {
      "text/plain": [
       "5.0"
      ]
     },
     "execution_count": 56,
     "metadata": {},
     "output_type": "execute_result"
    }
   ],
   "source": [
    "myfunc(20,80)"
   ]
  },
  {
   "cell_type": "code",
   "execution_count": 58,
   "id": "9734b6a6-2016-40fd-801a-044345a2d169",
   "metadata": {},
   "outputs": [],
   "source": [
    "def myfunc(*args):\n",
    "    print(args)"
   ]
  },
  {
   "cell_type": "code",
   "execution_count": 60,
   "id": "97f90d84-43ce-4f12-991e-829571fe66f7",
   "metadata": {},
   "outputs": [
    {
     "name": "stdout",
     "output_type": "stream",
     "text": [
      "(20.3, 87, 55)\n"
     ]
    }
   ],
   "source": [
    "myfunc(20.30,87,55)"
   ]
  },
  {
   "cell_type": "code",
   "execution_count": 62,
   "id": "f27c9cc3-4434-4a59-9e17-633487212141",
   "metadata": {},
   "outputs": [],
   "source": [
    "def myfunc(**kwargs):\n",
    "    print(kwargs)\n",
    "    if 'fruit' in kwargs:\n",
    "        print('My fruit of choice is {}'.format(kwargs['fruit']))\n",
    "    else:\n",
    "        print('I did not find any fruit here')"
   ]
  },
  {
   "cell_type": "code",
   "execution_count": 64,
   "id": "fff9dca7-7441-419e-8046-7187118fe5a4",
   "metadata": {},
   "outputs": [
    {
     "name": "stdout",
     "output_type": "stream",
     "text": [
      "{'fruit': 'apple', 'veggie': 'lettuce'}\n",
      "My fruit of choice is apple\n"
     ]
    }
   ],
   "source": [
    "myfunc(fruit = 'apple', veggie = 'lettuce')"
   ]
  },
  {
   "cell_type": "code",
   "execution_count": 66,
   "id": "e7dc68f0-db30-474a-86fb-71cd450f012d",
   "metadata": {},
   "outputs": [],
   "source": [
    "def myfunc(*args,**kwargs):\n",
    "    print(args)\n",
    "    print(kwargs)\n",
    "    print('I would like {} {}'.format(args[0],kwargs['food']))"
   ]
  },
  {
   "cell_type": "code",
   "execution_count": 68,
   "id": "a5dcb24c-1f88-42fb-a543-a962359611eb",
   "metadata": {},
   "outputs": [
    {
     "name": "stdout",
     "output_type": "stream",
     "text": [
      "(10, 20, 30)\n",
      "{'fruit': 'orange', 'food': 'eggs', 'animmal': 'dog'}\n",
      "I would like 10 eggs\n"
     ]
    }
   ],
   "source": [
    "myfunc(10,20,30,fruit = 'orange',food = 'eggs',animmal = 'dog')"
   ]
  },
  {
   "cell_type": "code",
   "execution_count": 80,
   "id": "92916c55-9483-4e33-a9f9-3178555c81b7",
   "metadata": {},
   "outputs": [],
   "source": [
    "def lesser_of_two_even(a,b):\n",
    "    result = 0\n",
    "    \n",
    "    if a % 2 == 0 and b % 2 == 0:\n",
    "        return min(a,b)\n",
    "    else:\n",
    "        return max(a,b)"
   ]
  },
  {
   "cell_type": "code",
   "execution_count": 78,
   "id": "ecfadcc0-1562-4f77-806f-5bf17fa83a20",
   "metadata": {},
   "outputs": [
    {
     "name": "stdout",
     "output_type": "stream",
     "text": [
      "2\n",
      "6\n",
      "5\n"
     ]
    }
   ],
   "source": [
    "print(lesser_of_two_even(2,6))\n",
    "print(lesser_of_two_even(3,6))\n",
    "print(lesser_of_two_even(1,5))"
   ]
  },
  {
   "cell_type": "code",
   "execution_count": 86,
   "id": "d10183ef-5213-4c53-8b24-0814debf4ed6",
   "metadata": {},
   "outputs": [],
   "source": [
    "def animal_crackers(text):\n",
    "    wordlist = text.split()\n",
    "\n",
    "    first = wordlist[0]\n",
    "    second = wordlist[1]\n",
    "\n",
    "    return first[0] == second[0]"
   ]
  },
  {
   "cell_type": "code",
   "execution_count": 88,
   "id": "70498696-8140-498b-bf0b-f3feb08c6562",
   "metadata": {},
   "outputs": [
    {
     "name": "stdout",
     "output_type": "stream",
     "text": [
      "True\n",
      "False\n"
     ]
    }
   ],
   "source": [
    "print(animal_crackers('Levelheaded Llama'))\n",
    "print(animal_crackers('Crazy Kangaroo'))"
   ]
  },
  {
   "cell_type": "code",
   "execution_count": 98,
   "id": "0d9955a8-cfa0-4e15-a3e5-1a94099fca45",
   "metadata": {},
   "outputs": [],
   "source": [
    "def makes_twenty(a,b):\n",
    "    if a + b  == 20:\n",
    "        return True\n",
    "    elif a == 20:\n",
    "        return True\n",
    "    elif b == 20:\n",
    "        return True\n",
    "    else:\n",
    "        return False"
   ]
  },
  {
   "cell_type": "code",
   "execution_count": 100,
   "id": "e28b2b72-c7dd-4bc3-ba79-325521e70703",
   "metadata": {},
   "outputs": [
    {
     "data": {
      "text/plain": [
       "True"
      ]
     },
     "execution_count": 100,
     "metadata": {},
     "output_type": "execute_result"
    }
   ],
   "source": [
    "makes_twenty(20,10)"
   ]
  },
  {
   "cell_type": "code",
   "execution_count": 102,
   "id": "e67ac583-5c14-4f54-b5e1-262f0228bffa",
   "metadata": {},
   "outputs": [
    {
     "data": {
      "text/plain": [
       "False"
      ]
     },
     "execution_count": 102,
     "metadata": {},
     "output_type": "execute_result"
    }
   ],
   "source": [
    "makes_twenty(2,3)"
   ]
  },
  {
   "cell_type": "code",
   "execution_count": 104,
   "id": "7601d4e7-3f0d-4781-9e20-7bed8e6aa72f",
   "metadata": {},
   "outputs": [],
   "source": [
    "def old_macdonald(name):\n",
    "    firstletter = name[0]\n",
    "    inbetween = name[1:3]\n",
    "    fourthletter = name[3]\n",
    "    rest = name[4:]\n",
    "\n",
    "    return firstletter.upper() + inbetween + fourthletter.upper() + rest"
   ]
  },
  {
   "cell_type": "code",
   "execution_count": 108,
   "id": "2873baa3-0dce-4629-a327-bf1396a09194",
   "metadata": {},
   "outputs": [
    {
     "data": {
      "text/plain": [
       "'MacDonald'"
      ]
     },
     "execution_count": 108,
     "metadata": {},
     "output_type": "execute_result"
    }
   ],
   "source": [
    "old_macdonald('macdonald')"
   ]
  },
  {
   "cell_type": "code",
   "execution_count": 110,
   "id": "dc603867-0e70-4e4d-8f64-6cdc836dcf1a",
   "metadata": {},
   "outputs": [],
   "source": [
    "def old_macdonald(name):\n",
    "    firstpart = name[:3]\n",
    "    secondpart = name[3:]\n",
    "    \n",
    "    return firstpart.capitalize() + secondpart.capitalize()"
   ]
  },
  {
   "cell_type": "code",
   "execution_count": 112,
   "id": "e5bec335-29fb-4e50-801f-64c45fcdde07",
   "metadata": {},
   "outputs": [
    {
     "data": {
      "text/plain": [
       "'MacDonald'"
      ]
     },
     "execution_count": 112,
     "metadata": {},
     "output_type": "execute_result"
    }
   ],
   "source": [
    "old_macdonald('macdonald')"
   ]
  },
  {
   "cell_type": "code",
   "execution_count": 120,
   "id": "d24996f1-e7b1-44f4-9578-f9788b49cd65",
   "metadata": {},
   "outputs": [],
   "source": [
    "def master_yoda(text):\n",
    "    wordlist = text.split()\n",
    "    reverse_word_list = wordlist[::-1]\n",
    "    return ' '.join(reverse_word_list)"
   ]
  },
  {
   "cell_type": "code",
   "execution_count": 122,
   "id": "783bff43-249b-45cc-b740-93cc22663ce1",
   "metadata": {},
   "outputs": [
    {
     "name": "stdout",
     "output_type": "stream",
     "text": [
      "home am I\n",
      "ready are We\n"
     ]
    }
   ],
   "source": [
    "print(master_yoda('I am home'))\n",
    "print(master_yoda('We are ready'))"
   ]
  },
  {
   "cell_type": "code",
   "execution_count": 124,
   "id": "0beb0e7e-b244-4c90-aea1-ba094a41a3f3",
   "metadata": {},
   "outputs": [],
   "source": [
    "def almost_there(n):\n",
    "    return (abs(100 - n) <= 10) or (abs(200 - n) <= 10)"
   ]
  },
  {
   "cell_type": "code",
   "execution_count": 126,
   "id": "5d14dffb-b8ce-47f4-87f7-579affab66e0",
   "metadata": {},
   "outputs": [
    {
     "name": "stdout",
     "output_type": "stream",
     "text": [
      "True\n",
      "False\n",
      "True\n"
     ]
    }
   ],
   "source": [
    "print(almost_there(104))\n",
    "print(almost_there(150))\n",
    "print(almost_there(209))"
   ]
  },
  {
   "cell_type": "code",
   "execution_count": 128,
   "id": "74d7f336-5723-428b-82be-f14eeef7c382",
   "metadata": {},
   "outputs": [],
   "source": [
    "def has_33(nums):\n",
    "    for i in range(0,len(nums)-1):\n",
    "        if nums[i] == 3 and nums[i+1] == 3:\n",
    "            return True\n",
    "\n",
    "    return False\n",
    "    "
   ]
  },
  {
   "cell_type": "code",
   "execution_count": 130,
   "id": "231b3cb7-b17c-44a9-a560-2213d21ddd56",
   "metadata": {},
   "outputs": [
    {
     "data": {
      "text/plain": [
       "True"
      ]
     },
     "execution_count": 130,
     "metadata": {},
     "output_type": "execute_result"
    }
   ],
   "source": [
    "has_33([1,3,3])"
   ]
  },
  {
   "cell_type": "code",
   "execution_count": 134,
   "id": "c7d3090b-5e95-4dc2-af54-c50cac64e2eb",
   "metadata": {},
   "outputs": [
    {
     "data": {
      "text/plain": [
       "False"
      ]
     },
     "execution_count": 134,
     "metadata": {},
     "output_type": "execute_result"
    }
   ],
   "source": [
    "has_33([1,3,1,3])"
   ]
  },
  {
   "cell_type": "code",
   "execution_count": 136,
   "id": "dc56c45c-e976-427a-85e9-48742bf0109c",
   "metadata": {},
   "outputs": [
    {
     "data": {
      "text/plain": [
       "False"
      ]
     },
     "execution_count": 136,
     "metadata": {},
     "output_type": "execute_result"
    }
   ],
   "source": [
    "has_33([3,1,3])"
   ]
  },
  {
   "cell_type": "code",
   "execution_count": 138,
   "id": "eff43397-fc77-4764-b5ea-f4b646617b73",
   "metadata": {},
   "outputs": [],
   "source": [
    "def paper_doll(text):\n",
    "    result = ''\n",
    "\n",
    "    for char in text:\n",
    "        result += char * 3\n",
    "\n",
    "    return result\n",
    "    "
   ]
  },
  {
   "cell_type": "code",
   "execution_count": 140,
   "id": "efefcb6f-4e8c-4a04-bfe7-e421e56b3db5",
   "metadata": {},
   "outputs": [
    {
     "data": {
      "text/plain": [
       "'hhheeellllllooo'"
      ]
     },
     "execution_count": 140,
     "metadata": {},
     "output_type": "execute_result"
    }
   ],
   "source": [
    "paper_doll('hello')"
   ]
  },
  {
   "cell_type": "code",
   "execution_count": 142,
   "id": "0612bea6-cdf3-4776-a149-ef54c0994347",
   "metadata": {},
   "outputs": [
    {
     "data": {
      "text/plain": [
       "'MMMiiissssssiiissssssiiipppiii'"
      ]
     },
     "execution_count": 142,
     "metadata": {},
     "output_type": "execute_result"
    }
   ],
   "source": [
    "paper_doll('Mississipi')"
   ]
  },
  {
   "cell_type": "code",
   "execution_count": 144,
   "id": "6ef1bdb1-0b4c-42cc-aba7-6b76b35417c4",
   "metadata": {},
   "outputs": [],
   "source": [
    "def black_jack(a,b,c):\n",
    "    if sum([a,b,c]) <= 21:\n",
    "        return sum([a,b,c])\n",
    "    elif 11 in [a,b,c] and sum([a,b,c]) - 10 <= 21:\n",
    "        return sum([a,b,c]) - 10\n",
    "    else:\n",
    "        print('BUST')"
   ]
  },
  {
   "cell_type": "code",
   "execution_count": 146,
   "id": "ada657c1-2c6b-46ca-8e0f-e5ba857bc7b5",
   "metadata": {},
   "outputs": [
    {
     "data": {
      "text/plain": [
       "18"
      ]
     },
     "execution_count": 146,
     "metadata": {},
     "output_type": "execute_result"
    }
   ],
   "source": [
    "black_jack(5,6,7)"
   ]
  },
  {
   "cell_type": "code",
   "execution_count": 148,
   "id": "7d3ac8ee-bf25-4398-89e8-5d198d46a904",
   "metadata": {},
   "outputs": [
    {
     "name": "stdout",
     "output_type": "stream",
     "text": [
      "BUST\n"
     ]
    }
   ],
   "source": [
    "black_jack(9,9,9)"
   ]
  },
  {
   "cell_type": "code",
   "execution_count": 150,
   "id": "f5bf8f2f-da24-4fad-8ec3-d4f2914ee0af",
   "metadata": {},
   "outputs": [
    {
     "data": {
      "text/plain": [
       "19"
      ]
     },
     "execution_count": 150,
     "metadata": {},
     "output_type": "execute_result"
    }
   ],
   "source": [
    "black_jack(9,9,11)"
   ]
  },
  {
   "cell_type": "code",
   "execution_count": 152,
   "id": "14278ff5-e4ce-403f-8080-414aff79711f",
   "metadata": {},
   "outputs": [],
   "source": [
    "def summer_69(arr):\n",
    "    total = 0\n",
    "    add = True\n",
    "\n",
    "    for num in arr:\n",
    "        while add:\n",
    "            if num != 6:\n",
    "                total += num\n",
    "                break\n",
    "            else:\n",
    "                add = False\n",
    "        while not add:\n",
    "            if num != 9:\n",
    "                break\n",
    "            else:\n",
    "                add = True\n",
    "\n",
    "    return total"
   ]
  },
  {
   "cell_type": "code",
   "execution_count": 154,
   "id": "f2231bf4-e0e3-4be5-a8b3-72a28747b38d",
   "metadata": {},
   "outputs": [
    {
     "data": {
      "text/plain": [
       "9"
      ]
     },
     "execution_count": 154,
     "metadata": {},
     "output_type": "execute_result"
    }
   ],
   "source": [
    "summer_69([1,3,5])"
   ]
  },
  {
   "cell_type": "code",
   "execution_count": 156,
   "id": "0f23bac5-c7a0-493e-b123-d66fd1999f30",
   "metadata": {},
   "outputs": [
    {
     "data": {
      "text/plain": [
       "9"
      ]
     },
     "execution_count": 156,
     "metadata": {},
     "output_type": "execute_result"
    }
   ],
   "source": [
    "summer_69([4,5,6,7,8,9])"
   ]
  },
  {
   "cell_type": "code",
   "execution_count": 158,
   "id": "c5f9e913-7391-4cc7-81ce-9ace8a9a1c64",
   "metadata": {},
   "outputs": [
    {
     "data": {
      "text/plain": [
       "14"
      ]
     },
     "execution_count": 158,
     "metadata": {},
     "output_type": "execute_result"
    }
   ],
   "source": [
    "summer_69([2,1,6,9,11])"
   ]
  },
  {
   "cell_type": "code",
   "execution_count": 168,
   "id": "30e7d70f-a518-4747-97a8-8d6d04ff68f2",
   "metadata": {},
   "outputs": [],
   "source": [
    "def spy_games(nums):\n",
    "    code = [0,0,7,'']\n",
    "\n",
    "    for num in nums:\n",
    "        if num == code[0]:\n",
    "            code.pop(0)\n",
    "\n",
    "    return len(code) == 1"
   ]
  },
  {
   "cell_type": "code",
   "execution_count": 170,
   "id": "66e383ca-78fb-4162-b46b-477717c75c80",
   "metadata": {},
   "outputs": [
    {
     "data": {
      "text/plain": [
       "True"
      ]
     },
     "execution_count": 170,
     "metadata": {},
     "output_type": "execute_result"
    }
   ],
   "source": [
    "spy_games([1,2,4,0,0,7,5])"
   ]
  },
  {
   "cell_type": "code",
   "execution_count": 172,
   "id": "07891f97-b0a3-4f77-b621-9a733a87eb38",
   "metadata": {},
   "outputs": [
    {
     "data": {
      "text/plain": [
       "True"
      ]
     },
     "execution_count": 172,
     "metadata": {},
     "output_type": "execute_result"
    }
   ],
   "source": [
    "spy_games([1,0,2,4,0,5,7])"
   ]
  },
  {
   "cell_type": "code",
   "execution_count": 174,
   "id": "0e228565-8f75-4edb-ae85-4d7c6dbc2dbb",
   "metadata": {},
   "outputs": [
    {
     "data": {
      "text/plain": [
       "False"
      ]
     },
     "execution_count": 174,
     "metadata": {},
     "output_type": "execute_result"
    }
   ],
   "source": [
    "spy_games([1,7,2,0,4,5,0])"
   ]
  },
  {
   "cell_type": "code",
   "execution_count": 176,
   "id": "58489e21-d765-4d27-9da1-4f7722cb3544",
   "metadata": {},
   "outputs": [],
   "source": [
    "def square(num):\n",
    "    return num ** 2"
   ]
  },
  {
   "cell_type": "code",
   "execution_count": 178,
   "id": "55798d2b-5a79-43b3-b9bb-cf404bd68a8f",
   "metadata": {},
   "outputs": [],
   "source": [
    "my_nums = [1,2,3,4,5]"
   ]
  },
  {
   "cell_type": "code",
   "execution_count": 180,
   "id": "ef30c91d-6909-4308-b2de-3d7cf2a189ee",
   "metadata": {},
   "outputs": [
    {
     "name": "stdout",
     "output_type": "stream",
     "text": [
      "1\n",
      "4\n",
      "9\n",
      "16\n",
      "25\n"
     ]
    }
   ],
   "source": [
    "for item in map(square,my_nums):\n",
    "    print(item)"
   ]
  },
  {
   "cell_type": "code",
   "execution_count": 182,
   "id": "3c3b8647-6ed7-4fbe-adb7-4613b58591e6",
   "metadata": {},
   "outputs": [
    {
     "data": {
      "text/plain": [
       "[1, 4, 9, 16, 25]"
      ]
     },
     "execution_count": 182,
     "metadata": {},
     "output_type": "execute_result"
    }
   ],
   "source": [
    "list(map(square,my_nums))"
   ]
  },
  {
   "cell_type": "code",
   "execution_count": 184,
   "id": "54d46c47-132b-48fe-b506-9940b7692b2d",
   "metadata": {},
   "outputs": [],
   "source": [
    "def splicer(mystring):\n",
    "    if len(mystring) % 2 == 0:\n",
    "        return 'EVEN'\n",
    "    else:\n",
    "        return mystring[0]"
   ]
  },
  {
   "cell_type": "code",
   "execution_count": 186,
   "id": "074fb267-ccf9-45a6-a532-f8e523edb30b",
   "metadata": {},
   "outputs": [],
   "source": [
    "names = ['Andy','Eve','Sally']"
   ]
  },
  {
   "cell_type": "code",
   "execution_count": 188,
   "id": "03e84545-c86f-4145-b3a5-1cd3c6fc0820",
   "metadata": {},
   "outputs": [
    {
     "data": {
      "text/plain": [
       "['EVEN', 'E', 'S']"
      ]
     },
     "execution_count": 188,
     "metadata": {},
     "output_type": "execute_result"
    }
   ],
   "source": [
    "list(map(splicer,names))"
   ]
  },
  {
   "cell_type": "code",
   "execution_count": 190,
   "id": "4147ef7d-5b39-4f2a-9b8b-3252a6ac504a",
   "metadata": {},
   "outputs": [],
   "source": [
    "def check_even(num):\n",
    "    return num % 2 == 0"
   ]
  },
  {
   "cell_type": "code",
   "execution_count": 192,
   "id": "526ea4f4-5ed5-44f3-9e44-f6288efd33a7",
   "metadata": {},
   "outputs": [],
   "source": [
    "mynums = [1,2,3,4,5,6]"
   ]
  },
  {
   "cell_type": "code",
   "execution_count": 194,
   "id": "56b32110-f4a4-45cf-82b3-4a98ec146c7d",
   "metadata": {},
   "outputs": [
    {
     "data": {
      "text/plain": [
       "<filter at 0x1ce140737c0>"
      ]
     },
     "execution_count": 194,
     "metadata": {},
     "output_type": "execute_result"
    }
   ],
   "source": [
    "filter(check_even,mynums)"
   ]
  },
  {
   "cell_type": "code",
   "execution_count": 196,
   "id": "3ee74b19-061b-415d-9b61-e6c8d758e2aa",
   "metadata": {},
   "outputs": [
    {
     "data": {
      "text/plain": [
       "[2, 4, 6]"
      ]
     },
     "execution_count": 196,
     "metadata": {},
     "output_type": "execute_result"
    }
   ],
   "source": [
    "list(filter(check_even,mynums))"
   ]
  },
  {
   "cell_type": "code",
   "execution_count": 198,
   "id": "5fe62742-c096-4b0b-9a49-5fe8ca079323",
   "metadata": {},
   "outputs": [
    {
     "name": "stdout",
     "output_type": "stream",
     "text": [
      "2\n",
      "4\n",
      "6\n"
     ]
    }
   ],
   "source": [
    "for n in filter(check_even,mynums):\n",
    "    print(n)"
   ]
  },
  {
   "cell_type": "code",
   "execution_count": 200,
   "id": "50ab8330-937d-4ade-aeb6-e4177a39ae48",
   "metadata": {},
   "outputs": [],
   "source": [
    "square = lambda num : num ** 2"
   ]
  },
  {
   "cell_type": "code",
   "execution_count": 202,
   "id": "5d20e0a5-83ec-4cc7-8ed4-56b3446649d4",
   "metadata": {},
   "outputs": [
    {
     "data": {
      "text/plain": [
       "25"
      ]
     },
     "execution_count": 202,
     "metadata": {},
     "output_type": "execute_result"
    }
   ],
   "source": [
    "square(5)"
   ]
  },
  {
   "cell_type": "code",
   "execution_count": 206,
   "id": "bee74fb1-d49e-4b32-826b-141bdb13018b",
   "metadata": {},
   "outputs": [
    {
     "data": {
      "text/plain": [
       "[1, 4, 9, 16, 25, 36]"
      ]
     },
     "execution_count": 206,
     "metadata": {},
     "output_type": "execute_result"
    }
   ],
   "source": [
    "list(map(lambda num : num ** 2, mynums))"
   ]
  },
  {
   "cell_type": "code",
   "execution_count": 208,
   "id": "b76e63d8-a676-491d-bf00-17708b25d40b",
   "metadata": {},
   "outputs": [
    {
     "data": {
      "text/plain": [
       "[2, 4, 6]"
      ]
     },
     "execution_count": 208,
     "metadata": {},
     "output_type": "execute_result"
    }
   ],
   "source": [
    "list(filter(lambda num : num % 2 == 0,mynums))"
   ]
  },
  {
   "cell_type": "code",
   "execution_count": 210,
   "id": "143d6df2-988a-4349-9a00-0e32ea2b8f7d",
   "metadata": {},
   "outputs": [
    {
     "data": {
      "text/plain": [
       "['A', 'E', 'S']"
      ]
     },
     "execution_count": 210,
     "metadata": {},
     "output_type": "execute_result"
    }
   ],
   "source": [
    "list(map(lambda name: name[0],names))"
   ]
  },
  {
   "cell_type": "code",
   "execution_count": 212,
   "id": "aeec9138-559e-48ca-bc07-0971a0afe645",
   "metadata": {},
   "outputs": [
    {
     "data": {
      "text/plain": [
       "['ydnA', 'evE', 'yllaS']"
      ]
     },
     "execution_count": 212,
     "metadata": {},
     "output_type": "execute_result"
    }
   ],
   "source": [
    "list(map(lambda name: name[::-1],names))"
   ]
  },
  {
   "cell_type": "code",
   "execution_count": 214,
   "id": "0ba2f49b-6189-40aa-b319-49d29c258df7",
   "metadata": {},
   "outputs": [],
   "source": [
    "def vol(rad):\n",
    "    return (4/3) * (3.14) * (rad ** 3)"
   ]
  },
  {
   "cell_type": "code",
   "execution_count": 216,
   "id": "b0085dca-a718-4400-9927-cb9b5d201711",
   "metadata": {},
   "outputs": [
    {
     "data": {
      "text/plain": [
       "33.49333333333333"
      ]
     },
     "execution_count": 216,
     "metadata": {},
     "output_type": "execute_result"
    }
   ],
   "source": [
    "vol(2)"
   ]
  },
  {
   "cell_type": "code",
   "execution_count": 218,
   "id": "dae115b6-8817-40e9-828a-2ece0657063f",
   "metadata": {},
   "outputs": [],
   "source": [
    "def ran_check(num,low,high):\n",
    "    if num in range(low,high+1):\n",
    "        print(f'{num} is in range {low} and {high}')\n",
    "    else:\n",
    "        print('not in range')"
   ]
  },
  {
   "cell_type": "code",
   "execution_count": 220,
   "id": "3cf1a39f-ab1a-40cb-ac7b-ad079644ec06",
   "metadata": {},
   "outputs": [
    {
     "name": "stdout",
     "output_type": "stream",
     "text": [
      "5 is in range 2 and 7\n"
     ]
    }
   ],
   "source": [
    "ran_check(5,2,7)"
   ]
  },
  {
   "cell_type": "code",
   "execution_count": 222,
   "id": "69e4a998-2de5-4bc7-8e7b-fbc5c286310c",
   "metadata": {},
   "outputs": [],
   "source": [
    "def ran_check(num,low,high):\n",
    "    return num in range(low,high+1)\n",
    "       "
   ]
  },
  {
   "cell_type": "code",
   "execution_count": 224,
   "id": "ac7f96e7-fa96-4b83-80c3-aaeca295882d",
   "metadata": {},
   "outputs": [
    {
     "data": {
      "text/plain": [
       "True"
      ]
     },
     "execution_count": 224,
     "metadata": {},
     "output_type": "execute_result"
    }
   ],
   "source": [
    "ran_check(5,2,7)"
   ]
  },
  {
   "cell_type": "code",
   "execution_count": 226,
   "id": "235fb4c9-e7a5-4254-a315-427118576b77",
   "metadata": {},
   "outputs": [],
   "source": [
    "def up_low(s):\n",
    "    lowercase = 0\n",
    "    uppercase = 0\n",
    "\n",
    "    for char in s:\n",
    "        if char.isupper():\n",
    "            uppercase += 1\n",
    "        elif char.islower():\n",
    "            lowercase += 1\n",
    "        else:\n",
    "            pass\n",
    "\n",
    "    print(f'Original string: {s}')\n",
    "    print(f'Lowercase count: {lowercase}')\n",
    "    print(f'Uppercase count: {uppercase}')"
   ]
  },
  {
   "cell_type": "code",
   "execution_count": 228,
   "id": "2b69001f-66c4-43b3-80b8-8905a7dd4157",
   "metadata": {},
   "outputs": [],
   "source": [
    "s = 'Hello Mr. Rogers, how are you this fine Tuesday?'"
   ]
  },
  {
   "cell_type": "code",
   "execution_count": 230,
   "id": "b9392837-0dc4-4ea0-a401-d93a544f9635",
   "metadata": {},
   "outputs": [
    {
     "name": "stdout",
     "output_type": "stream",
     "text": [
      "Original string: Hello Mr. Rogers, how are you this fine Tuesday?\n",
      "Lowercase count: 33\n",
      "Uppercase count: 4\n"
     ]
    }
   ],
   "source": [
    "up_low(s)"
   ]
  },
  {
   "cell_type": "code",
   "execution_count": 236,
   "id": "8d0a24bb-1f0c-4776-9d04-0473a2ad2981",
   "metadata": {},
   "outputs": [],
   "source": [
    "def up_low(s):\n",
    "    d = {'upper': 0, 'lower':0}\n",
    "\n",
    "    for char in s:\n",
    "        if char.isupper():\n",
    "            d['upper'] += 1\n",
    "        elif char.islower():\n",
    "            d['lower'] += 1\n",
    "        else:\n",
    "            pass\n",
    "\n",
    "    print(f'Original string: {s}')\n",
    "    print(f'Lowercase count: {d['lower']}')\n",
    "    print(f'Uppercase count: {d['upper']}')"
   ]
  },
  {
   "cell_type": "code",
   "execution_count": 238,
   "id": "a12ff501-ff4d-4678-a661-641cc524912b",
   "metadata": {},
   "outputs": [
    {
     "name": "stdout",
     "output_type": "stream",
     "text": [
      "Original string: Hello Mr. Rogers, how are you this fine Tuesday?\n",
      "Lowercase count: 33\n",
      "Uppercase count: 4\n"
     ]
    }
   ],
   "source": [
    "up_low(s)"
   ]
  },
  {
   "cell_type": "code",
   "execution_count": 240,
   "id": "36d9c355-4b7f-40fb-8593-74cd51cfe80b",
   "metadata": {},
   "outputs": [],
   "source": [
    "def unique_list(lst):\n",
    "    return list(set(lst))"
   ]
  },
  {
   "cell_type": "code",
   "execution_count": 242,
   "id": "27219265-d48d-4dac-8f6e-668ad249a4ce",
   "metadata": {},
   "outputs": [
    {
     "data": {
      "text/plain": [
       "[1, 2, 3, 4, 5]"
      ]
     },
     "execution_count": 242,
     "metadata": {},
     "output_type": "execute_result"
    }
   ],
   "source": [
    "unique_list([1,1,1,1,2,2,3,3,3,4,5])"
   ]
  },
  {
   "cell_type": "code",
   "execution_count": 244,
   "id": "cbf93525-d57c-4421-bce4-e56a8e6578bb",
   "metadata": {},
   "outputs": [],
   "source": [
    "def unique_list(lst):\n",
    "    seen_numbers = []\n",
    "    for number in lst:\n",
    "        if number not in seen_numbers:\n",
    "            seen_numbers.append(number)\n",
    "\n",
    "    return seen_numbers"
   ]
  },
  {
   "cell_type": "code",
   "execution_count": 246,
   "id": "22dc7c76-f98f-43d0-bbf4-e13e34909247",
   "metadata": {},
   "outputs": [
    {
     "data": {
      "text/plain": [
       "[1, 2, 3, 4, 5]"
      ]
     },
     "execution_count": 246,
     "metadata": {},
     "output_type": "execute_result"
    }
   ],
   "source": [
    "unique_list([1,1,1,1,2,2,3,3,3,4,5])"
   ]
  },
  {
   "cell_type": "code",
   "execution_count": 248,
   "id": "7c45c0d1-6da9-4b9b-8a67-d0b91d2148af",
   "metadata": {},
   "outputs": [],
   "source": [
    "def multiply(numbers):\n",
    "    total = 1\n",
    "    for num in numbers:\n",
    "        total = total * num\n",
    "\n",
    "    return total"
   ]
  },
  {
   "cell_type": "code",
   "execution_count": 250,
   "id": "24a126ba-a65f-4dc4-b1fc-df7327b14f84",
   "metadata": {},
   "outputs": [
    {
     "data": {
      "text/plain": [
       "-24"
      ]
     },
     "execution_count": 250,
     "metadata": {},
     "output_type": "execute_result"
    }
   ],
   "source": [
    "multiply([1,2,3,-4])"
   ]
  },
  {
   "cell_type": "code",
   "execution_count": 252,
   "id": "8a78b8ec-926c-49a0-b494-3f10d26bf5b0",
   "metadata": {},
   "outputs": [],
   "source": [
    "def palindrome(s):\n",
    "    # REMOVE SPACES IN STRING\n",
    "    s = s.replace(' ','')\n",
    "\n",
    "    # Check if string s is == to the reversed version of the string\n",
    "    return s == s[::-1]"
   ]
  },
  {
   "cell_type": "code",
   "execution_count": 254,
   "id": "346e2af6-e8e3-4d90-99f1-1c7051fc3df6",
   "metadata": {},
   "outputs": [
    {
     "data": {
      "text/plain": [
       "True"
      ]
     },
     "execution_count": 254,
     "metadata": {},
     "output_type": "execute_result"
    }
   ],
   "source": [
    "palindrome('nurses run')"
   ]
  },
  {
   "cell_type": "code",
   "execution_count": 258,
   "id": "f18ca76e-a51e-4af8-81d9-3656d37610f0",
   "metadata": {},
   "outputs": [],
   "source": [
    "import string\n",
    "\n",
    "def ispangram(str1, alphabet = string.ascii_lowercase):\n",
    "    # Create a set of the alphabet\n",
    "    alphaset = set(alphabet)\n",
    "    # Remove any spaces from the input string\n",
    "    str1 = str1.replace(' ','')\n",
    "    # Convert into all lowercase\n",
    "    str1 = str1.lower()\n",
    "    # Grab all unique letters from the string set()\n",
    "    str1 = set(str1)\n",
    "    # alphabet set == string set input\n",
    "    return str1 == alphaset    "
   ]
  },
  {
   "cell_type": "code",
   "execution_count": 262,
   "id": "c2da0187-41dd-43b6-95b5-848ec1d8b261",
   "metadata": {},
   "outputs": [
    {
     "data": {
      "text/plain": [
       "True"
      ]
     },
     "execution_count": 262,
     "metadata": {},
     "output_type": "execute_result"
    }
   ],
   "source": [
    "ispangram('The quick brown fox jumps over the lazy dog')"
   ]
  },
  {
   "cell_type": "code",
   "execution_count": null,
   "id": "b86ef607-bd61-48c6-b03e-e35a2fd2e521",
   "metadata": {},
   "outputs": [],
   "source": []
  }
 ],
 "metadata": {
  "kernelspec": {
   "display_name": "Python [conda env:base] *",
   "language": "python",
   "name": "conda-base-py"
  },
  "language_info": {
   "codemirror_mode": {
    "name": "ipython",
    "version": 3
   },
   "file_extension": ".py",
   "mimetype": "text/x-python",
   "name": "python",
   "nbconvert_exporter": "python",
   "pygments_lexer": "ipython3",
   "version": "3.12.7"
  }
 },
 "nbformat": 4,
 "nbformat_minor": 5
}
