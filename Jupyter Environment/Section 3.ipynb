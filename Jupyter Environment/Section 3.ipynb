{
 "cells": [
  {
   "cell_type": "code",
   "execution_count": 1,
   "id": "30254be3-735b-4ccb-bbb9-3130819dc261",
   "metadata": {},
   "outputs": [],
   "source": [
    "a = 5"
   ]
  },
  {
   "cell_type": "code",
   "execution_count": 2,
   "id": "d92244ac-59b4-4fa0-9b11-cd26696aa9c8",
   "metadata": {},
   "outputs": [
    {
     "data": {
      "text/plain": [
       "5"
      ]
     },
     "execution_count": 2,
     "metadata": {},
     "output_type": "execute_result"
    }
   ],
   "source": [
    "a"
   ]
  },
  {
   "cell_type": "code",
   "execution_count": 3,
   "id": "6f1da0ca-b0d7-4101-be32-8b70e94405d1",
   "metadata": {},
   "outputs": [
    {
     "data": {
      "text/plain": [
       "int"
      ]
     },
     "execution_count": 3,
     "metadata": {},
     "output_type": "execute_result"
    }
   ],
   "source": [
    "type(a)"
   ]
  },
  {
   "cell_type": "code",
   "execution_count": 4,
   "id": "f760cb8e-592d-48c4-a0bd-2d9e4793c0d2",
   "metadata": {},
   "outputs": [
    {
     "name": "stdout",
     "output_type": "stream",
     "text": [
      "hello \n",
      " world\n"
     ]
    }
   ],
   "source": [
    "print('hello \\n world')"
   ]
  },
  {
   "cell_type": "code",
   "execution_count": 5,
   "id": "4237cbaf-e7f8-4788-b1ef-58b9351b414c",
   "metadata": {},
   "outputs": [
    {
     "name": "stdout",
     "output_type": "stream",
     "text": [
      "hello \t world\n"
     ]
    }
   ],
   "source": [
    "print('hello \\t world')"
   ]
  },
  {
   "cell_type": "code",
   "execution_count": 6,
   "id": "48699f4a-2a61-4b70-a020-c276ba60aa67",
   "metadata": {},
   "outputs": [
    {
     "data": {
      "text/plain": [
       "5"
      ]
     },
     "execution_count": 6,
     "metadata": {},
     "output_type": "execute_result"
    }
   ],
   "source": [
    "len('hello')"
   ]
  },
  {
   "cell_type": "code",
   "execution_count": 7,
   "id": "0d331f9a-4b81-41b4-9230-b42e6d31e41c",
   "metadata": {},
   "outputs": [
    {
     "data": {
      "text/plain": [
       "4"
      ]
     },
     "execution_count": 7,
     "metadata": {},
     "output_type": "execute_result"
    }
   ],
   "source": [
    "len('I am') # counts spaces"
   ]
  },
  {
   "cell_type": "code",
   "execution_count": 8,
   "id": "1e95d4f3-d49c-45de-9c0b-ffb90a5f5f63",
   "metadata": {},
   "outputs": [],
   "source": [
    "mystring = 'Hello World'"
   ]
  },
  {
   "cell_type": "code",
   "execution_count": 9,
   "id": "6f03f840-6b49-43ef-88f1-9b29b05acad2",
   "metadata": {},
   "outputs": [
    {
     "data": {
      "text/plain": [
       "'Hello World'"
      ]
     },
     "execution_count": 9,
     "metadata": {},
     "output_type": "execute_result"
    }
   ],
   "source": [
    "mystring"
   ]
  },
  {
   "cell_type": "code",
   "execution_count": 10,
   "id": "866aff4a-0d77-44c3-845d-3017a478fe29",
   "metadata": {},
   "outputs": [
    {
     "data": {
      "text/plain": [
       "'H'"
      ]
     },
     "execution_count": 10,
     "metadata": {},
     "output_type": "execute_result"
    }
   ],
   "source": [
    "mystring[0]"
   ]
  },
  {
   "cell_type": "code",
   "execution_count": 11,
   "id": "b1d3951a-6444-4a75-9c87-3fa883ead903",
   "metadata": {},
   "outputs": [
    {
     "data": {
      "text/plain": [
       "'r'"
      ]
     },
     "execution_count": 11,
     "metadata": {},
     "output_type": "execute_result"
    }
   ],
   "source": [
    "mystring[8]"
   ]
  },
  {
   "cell_type": "code",
   "execution_count": 12,
   "id": "1032eb0a-5773-40a4-8306-7ccc6a48c3a4",
   "metadata": {},
   "outputs": [
    {
     "data": {
      "text/plain": [
       "'l'"
      ]
     },
     "execution_count": 12,
     "metadata": {},
     "output_type": "execute_result"
    }
   ],
   "source": [
    "mystring[9]"
   ]
  },
  {
   "cell_type": "code",
   "execution_count": 13,
   "id": "9a7a2460-1c6d-45e1-818b-f426684a0e47",
   "metadata": {},
   "outputs": [
    {
     "data": {
      "text/plain": [
       "'l'"
      ]
     },
     "execution_count": 13,
     "metadata": {},
     "output_type": "execute_result"
    }
   ],
   "source": [
    "mystring[-2]"
   ]
  },
  {
   "cell_type": "code",
   "execution_count": 14,
   "id": "d9e5da6f-2439-45c3-aa88-c927b2303489",
   "metadata": {},
   "outputs": [],
   "source": [
    "mystring = 'abcdefghik'"
   ]
  },
  {
   "cell_type": "code",
   "execution_count": 15,
   "id": "f22e186d-9ede-484f-bf5d-a5331d83ed60",
   "metadata": {},
   "outputs": [
    {
     "data": {
      "text/plain": [
       "'cdefghik'"
      ]
     },
     "execution_count": 15,
     "metadata": {},
     "output_type": "execute_result"
    }
   ],
   "source": [
    "mystring[2:]"
   ]
  },
  {
   "cell_type": "code",
   "execution_count": 16,
   "id": "504a19c9-8f77-4de8-aa05-138846c555da",
   "metadata": {},
   "outputs": [
    {
     "data": {
      "text/plain": [
       "'abc'"
      ]
     },
     "execution_count": 16,
     "metadata": {},
     "output_type": "execute_result"
    }
   ],
   "source": [
    "mystring[0:3]"
   ]
  },
  {
   "cell_type": "code",
   "execution_count": 17,
   "id": "f24b8e52-b0cc-4dad-8fce-3bd293516d81",
   "metadata": {},
   "outputs": [
    {
     "data": {
      "text/plain": [
       "'def'"
      ]
     },
     "execution_count": 17,
     "metadata": {},
     "output_type": "execute_result"
    }
   ],
   "source": [
    "mystring[3:6]"
   ]
  },
  {
   "cell_type": "code",
   "execution_count": 18,
   "id": "613ac592-4e6d-4c8f-af71-98aab4457a98",
   "metadata": {},
   "outputs": [
    {
     "data": {
      "text/plain": [
       "'bc'"
      ]
     },
     "execution_count": 18,
     "metadata": {},
     "output_type": "execute_result"
    }
   ],
   "source": [
    "mystring[1:3]"
   ]
  },
  {
   "cell_type": "code",
   "execution_count": 19,
   "id": "9a567b4f-cf4b-49c6-8c19-07ee52917f00",
   "metadata": {},
   "outputs": [
    {
     "data": {
      "text/plain": [
       "'abcdefghik'"
      ]
     },
     "execution_count": 19,
     "metadata": {},
     "output_type": "execute_result"
    }
   ],
   "source": [
    "mystring[::]"
   ]
  },
  {
   "cell_type": "code",
   "execution_count": 20,
   "id": "e8b4199e-5557-4d4e-a64d-c400ffa252b2",
   "metadata": {},
   "outputs": [
    {
     "data": {
      "text/plain": [
       "'acegi'"
      ]
     },
     "execution_count": 20,
     "metadata": {},
     "output_type": "execute_result"
    }
   ],
   "source": [
    "mystring[::2]"
   ]
  },
  {
   "cell_type": "code",
   "execution_count": 21,
   "id": "7eef735b-a454-4c1f-8b71-889036f50974",
   "metadata": {},
   "outputs": [
    {
     "data": {
      "text/plain": [
       "'adgk'"
      ]
     },
     "execution_count": 21,
     "metadata": {},
     "output_type": "execute_result"
    }
   ],
   "source": [
    "mystring[::3]"
   ]
  },
  {
   "cell_type": "code",
   "execution_count": 22,
   "id": "15e9c558-e53c-40d2-929e-b00501b0f4f4",
   "metadata": {},
   "outputs": [
    {
     "data": {
      "text/plain": [
       "'ceg'"
      ]
     },
     "execution_count": 22,
     "metadata": {},
     "output_type": "execute_result"
    }
   ],
   "source": [
    "mystring[2:7:2]"
   ]
  },
  {
   "cell_type": "code",
   "execution_count": 23,
   "id": "ef95838a-48ea-4ca3-9309-1000f4edbec6",
   "metadata": {},
   "outputs": [
    {
     "data": {
      "text/plain": [
       "'kihgfedcba'"
      ]
     },
     "execution_count": 23,
     "metadata": {},
     "output_type": "execute_result"
    }
   ],
   "source": [
    "mystring[::-1] ## reverse string"
   ]
  },
  {
   "cell_type": "code",
   "execution_count": 24,
   "id": "4a7d2af7-e622-4ca5-94db-51ba6c63402b",
   "metadata": {},
   "outputs": [],
   "source": [
    "letter = 'a' * 10"
   ]
  },
  {
   "cell_type": "code",
   "execution_count": 25,
   "id": "27dac758-ce69-4583-a7be-0fe9c9eaaa84",
   "metadata": {},
   "outputs": [
    {
     "data": {
      "text/plain": [
       "'aaaaaaaaaa'"
      ]
     },
     "execution_count": 25,
     "metadata": {},
     "output_type": "execute_result"
    }
   ],
   "source": [
    "letter"
   ]
  },
  {
   "cell_type": "code",
   "execution_count": 26,
   "id": "27ac7047-45a9-4182-96e1-17405d0b64c8",
   "metadata": {},
   "outputs": [
    {
     "data": {
      "text/plain": [
       "'Aaaaaaaaaa'"
      ]
     },
     "execution_count": 26,
     "metadata": {},
     "output_type": "execute_result"
    }
   ],
   "source": [
    "letter.capitalize() # capitalize first letter"
   ]
  },
  {
   "cell_type": "code",
   "execution_count": 27,
   "id": "ffda0796-1124-4fa0-ab10-881a1cc2700d",
   "metadata": {},
   "outputs": [
    {
     "data": {
      "text/plain": [
       "'AAAAAAAAAA'"
      ]
     },
     "execution_count": 27,
     "metadata": {},
     "output_type": "execute_result"
    }
   ],
   "source": [
    "letter.upper() # capitalize everything"
   ]
  },
  {
   "cell_type": "code",
   "execution_count": 28,
   "id": "c4f2502c-5c39-4c85-be28-3af8dfb88cd9",
   "metadata": {},
   "outputs": [
    {
     "data": {
      "text/plain": [
       "10"
      ]
     },
     "execution_count": 28,
     "metadata": {},
     "output_type": "execute_result"
    }
   ],
   "source": [
    "letter.count('a')"
   ]
  },
  {
   "cell_type": "code",
   "execution_count": 29,
   "id": "a6da72e3-7a49-4b89-a568-17aba9af5836",
   "metadata": {},
   "outputs": [
    {
     "data": {
      "text/plain": [
       "'aaaaaaaaaa'"
      ]
     },
     "execution_count": 29,
     "metadata": {},
     "output_type": "execute_result"
    }
   ],
   "source": [
    "letter.lower() "
   ]
  },
  {
   "cell_type": "code",
   "execution_count": 30,
   "id": "f5adfc19-45a9-40d7-aa40-b01d6b6f30ef",
   "metadata": {},
   "outputs": [
    {
     "data": {
      "text/plain": [
       "['', '', '', '', '', '', '', '', '', '', '']"
      ]
     },
     "execution_count": 30,
     "metadata": {},
     "output_type": "execute_result"
    }
   ],
   "source": [
    "letter.split('a')"
   ]
  },
  {
   "cell_type": "code",
   "execution_count": 31,
   "id": "76a7d48c-c6f5-45cd-a2bb-bd820edaee49",
   "metadata": {},
   "outputs": [],
   "source": [
    "words = 'These are words'"
   ]
  },
  {
   "cell_type": "code",
   "execution_count": 32,
   "id": "77d9d209-ee17-45e8-bec4-5b17ec0bd5e5",
   "metadata": {},
   "outputs": [
    {
     "data": {
      "text/plain": [
       "['These', 'are', 'words']"
      ]
     },
     "execution_count": 32,
     "metadata": {},
     "output_type": "execute_result"
    }
   ],
   "source": [
    "words.split()"
   ]
  },
  {
   "cell_type": "code",
   "execution_count": 33,
   "id": "d1de5511-3d6b-4559-aa3d-10cceccb1929",
   "metadata": {},
   "outputs": [
    {
     "data": {
      "text/plain": [
       "['Th', 's', ' ar', ' words']"
      ]
     },
     "execution_count": 33,
     "metadata": {},
     "output_type": "execute_result"
    }
   ],
   "source": [
    "words.split('e')"
   ]
  },
  {
   "cell_type": "code",
   "execution_count": 34,
   "id": "b007e8af-e7b2-44e5-8aca-b6b0d71cc823",
   "metadata": {},
   "outputs": [
    {
     "name": "stdout",
     "output_type": "stream",
     "text": [
      "This is a string INSERTED\n"
     ]
    }
   ],
   "source": [
    "print('This is a string {}'.format('INSERTED'))"
   ]
  },
  {
   "cell_type": "code",
   "execution_count": 35,
   "id": "20101437-1c60-4021-98ae-a058572343a6",
   "metadata": {},
   "outputs": [
    {
     "name": "stdout",
     "output_type": "stream",
     "text": [
      "The quick brown fox\n"
     ]
    }
   ],
   "source": [
    "print('The {2} {1} {0}'.format('fox', 'brown', 'quick'))"
   ]
  },
  {
   "cell_type": "code",
   "execution_count": 36,
   "id": "20b4afa4-079a-43c9-9752-8a35114fddf1",
   "metadata": {},
   "outputs": [
    {
     "name": "stdout",
     "output_type": "stream",
     "text": [
      "The quick brown fox\n"
     ]
    }
   ],
   "source": [
    "print('The {q} {b} {f}'.format(f = 'fox', b = 'brown', q = 'quick'))"
   ]
  },
  {
   "cell_type": "code",
   "execution_count": 37,
   "id": "5f186d9e-10fc-4945-a787-09d6373b3bc2",
   "metadata": {},
   "outputs": [],
   "source": [
    "result = 100/77"
   ]
  },
  {
   "cell_type": "code",
   "execution_count": 38,
   "id": "0f991586-7048-4906-a453-2c93f1c0d618",
   "metadata": {},
   "outputs": [
    {
     "name": "stdout",
     "output_type": "stream",
     "text": [
      "The result is 1.30\n"
     ]
    }
   ],
   "source": [
    "print('The result is {r:1.2f}'.format(r = result))"
   ]
  },
  {
   "cell_type": "code",
   "execution_count": 39,
   "id": "2928b769-55bd-49fd-8415-4e1d78eb913a",
   "metadata": {},
   "outputs": [
    {
     "name": "stdout",
     "output_type": "stream",
     "text": [
      "The result is 1.2987012987012987\n"
     ]
    }
   ],
   "source": [
    "print(f'The result is {result}')"
   ]
  },
  {
   "cell_type": "code",
   "execution_count": 40,
   "id": "2d1d6fdc-051b-435a-84b0-e5ad406109fb",
   "metadata": {},
   "outputs": [],
   "source": [
    "mylist = [1,2,3]"
   ]
  },
  {
   "cell_type": "code",
   "execution_count": 41,
   "id": "2e5c7363-d543-4816-bac4-c03d221b7e56",
   "metadata": {},
   "outputs": [],
   "source": [
    "anotherlist = ['a', 1 , 3.5]"
   ]
  },
  {
   "cell_type": "code",
   "execution_count": 42,
   "id": "ef1ea396-ec7a-408a-bb5c-cd0e8fcfcb8c",
   "metadata": {},
   "outputs": [
    {
     "data": {
      "text/plain": [
       "3"
      ]
     },
     "execution_count": 42,
     "metadata": {},
     "output_type": "execute_result"
    }
   ],
   "source": [
    "len(mylist)"
   ]
  },
  {
   "cell_type": "code",
   "execution_count": 43,
   "id": "28b25074-e8c8-411f-b503-0a8f4d23f651",
   "metadata": {},
   "outputs": [
    {
     "data": {
      "text/plain": [
       "[2, 3]"
      ]
     },
     "execution_count": 43,
     "metadata": {},
     "output_type": "execute_result"
    }
   ],
   "source": [
    "mylist[1::]"
   ]
  },
  {
   "cell_type": "code",
   "execution_count": 44,
   "id": "98ac1d20-bc5a-40d3-88e9-fd8abf717feb",
   "metadata": {},
   "outputs": [
    {
     "data": {
      "text/plain": [
       "[1, 2, 3, 'a', 1, 3.5]"
      ]
     },
     "execution_count": 44,
     "metadata": {},
     "output_type": "execute_result"
    }
   ],
   "source": [
    "mylist + anotherlist"
   ]
  },
  {
   "cell_type": "code",
   "execution_count": 45,
   "id": "cd915a9f-eaf3-4f45-98bb-61b82950b83b",
   "metadata": {},
   "outputs": [],
   "source": [
    "mylist[0] = 'reassigned' # change first element"
   ]
  },
  {
   "cell_type": "code",
   "execution_count": 46,
   "id": "0374d889-c006-4223-80b1-5461e0222253",
   "metadata": {},
   "outputs": [
    {
     "data": {
      "text/plain": [
       "['reassigned', 2, 3]"
      ]
     },
     "execution_count": 46,
     "metadata": {},
     "output_type": "execute_result"
    }
   ],
   "source": [
    "mylist"
   ]
  },
  {
   "cell_type": "code",
   "execution_count": 47,
   "id": "1537db6d-4bac-470f-a058-9832fa04cc7d",
   "metadata": {},
   "outputs": [],
   "source": [
    "mylist.append(6)    # add element at the end of list"
   ]
  },
  {
   "cell_type": "code",
   "execution_count": 48,
   "id": "e80c7583-a3c5-4320-a71d-06106541eb26",
   "metadata": {},
   "outputs": [
    {
     "data": {
      "text/plain": [
       "['reassigned', 2, 3, 6]"
      ]
     },
     "execution_count": 48,
     "metadata": {},
     "output_type": "execute_result"
    }
   ],
   "source": [
    "mylist"
   ]
  },
  {
   "cell_type": "code",
   "execution_count": 49,
   "id": "757ea3bd-37e9-41f5-9e3d-99834a278feb",
   "metadata": {},
   "outputs": [],
   "source": [
    "mylist.append(9)"
   ]
  },
  {
   "cell_type": "code",
   "execution_count": 50,
   "id": "eeea5338-344a-49e2-afdd-df6e4f5325d0",
   "metadata": {},
   "outputs": [
    {
     "data": {
      "text/plain": [
       "['reassigned', 2, 3, 6, 9]"
      ]
     },
     "execution_count": 50,
     "metadata": {},
     "output_type": "execute_result"
    }
   ],
   "source": [
    "mylist"
   ]
  },
  {
   "cell_type": "code",
   "execution_count": 51,
   "id": "6bd28f28-7610-4a35-bc2a-d90bbfbcbb56",
   "metadata": {},
   "outputs": [
    {
     "data": {
      "text/plain": [
       "9"
      ]
     },
     "execution_count": 51,
     "metadata": {},
     "output_type": "execute_result"
    }
   ],
   "source": [
    "mylist.pop()     # removes last element"
   ]
  },
  {
   "cell_type": "code",
   "execution_count": 52,
   "id": "a65e73b6-8e81-4b0a-8e45-73f766586814",
   "metadata": {},
   "outputs": [
    {
     "data": {
      "text/plain": [
       "['reassigned', 2, 3, 6]"
      ]
     },
     "execution_count": 52,
     "metadata": {},
     "output_type": "execute_result"
    }
   ],
   "source": [
    "mylist"
   ]
  },
  {
   "cell_type": "code",
   "execution_count": 53,
   "id": "7ccb801f-bfb5-4897-bf80-af885a59376e",
   "metadata": {},
   "outputs": [
    {
     "data": {
      "text/plain": [
       "3"
      ]
     },
     "execution_count": 53,
     "metadata": {},
     "output_type": "execute_result"
    }
   ],
   "source": [
    "mylist.pop(2)"
   ]
  },
  {
   "cell_type": "code",
   "execution_count": 54,
   "id": "5ae75d68-eb8c-4a51-8209-e3bdacd1ef2c",
   "metadata": {},
   "outputs": [
    {
     "data": {
      "text/plain": [
       "['reassigned', 2, 6]"
      ]
     },
     "execution_count": 54,
     "metadata": {},
     "output_type": "execute_result"
    }
   ],
   "source": [
    "mylist"
   ]
  },
  {
   "cell_type": "code",
   "execution_count": 55,
   "id": "8b10d044-1670-48ce-8328-8ccc6b482888",
   "metadata": {},
   "outputs": [
    {
     "data": {
      "text/plain": [
       "6"
      ]
     },
     "execution_count": 55,
     "metadata": {},
     "output_type": "execute_result"
    }
   ],
   "source": [
    "mylist.pop(-1)"
   ]
  },
  {
   "cell_type": "code",
   "execution_count": 56,
   "id": "1466abff-da17-4b36-b078-61b4641d3230",
   "metadata": {},
   "outputs": [
    {
     "data": {
      "text/plain": [
       "['reassigned', 2]"
      ]
     },
     "execution_count": 56,
     "metadata": {},
     "output_type": "execute_result"
    }
   ],
   "source": [
    "mylist"
   ]
  },
  {
   "cell_type": "code",
   "execution_count": 57,
   "id": "579a4f1d-32a2-40b4-a462-ec2365ad3fbf",
   "metadata": {},
   "outputs": [],
   "source": [
    "mylist = ['s', 'y', 't', 'd', 'a']"
   ]
  },
  {
   "cell_type": "code",
   "execution_count": 58,
   "id": "1ef5c44f-b5af-4152-80e6-8ecc45c3dae5",
   "metadata": {},
   "outputs": [],
   "source": [
    "num_list = [1,5,4,9,6,0,2]"
   ]
  },
  {
   "cell_type": "code",
   "execution_count": 59,
   "id": "037c67ef-efbf-412a-afe5-6e11f67140a6",
   "metadata": {},
   "outputs": [],
   "source": [
    "mylist.sort()"
   ]
  },
  {
   "cell_type": "code",
   "execution_count": 60,
   "id": "ee533fef-6af6-4b3a-9197-d4f2c2c94c19",
   "metadata": {},
   "outputs": [],
   "source": [
    "num_list.sort()"
   ]
  },
  {
   "cell_type": "code",
   "execution_count": 61,
   "id": "572d8e2a-033b-493e-8cf8-410a87fae9ea",
   "metadata": {},
   "outputs": [
    {
     "data": {
      "text/plain": [
       "['a', 'd', 's', 't', 'y']"
      ]
     },
     "execution_count": 61,
     "metadata": {},
     "output_type": "execute_result"
    }
   ],
   "source": [
    "mylist"
   ]
  },
  {
   "cell_type": "code",
   "execution_count": 62,
   "id": "92384610-98f1-4708-be4b-cc91e57d663f",
   "metadata": {},
   "outputs": [
    {
     "data": {
      "text/plain": [
       "[0, 1, 2, 4, 5, 6, 9]"
      ]
     },
     "execution_count": 62,
     "metadata": {},
     "output_type": "execute_result"
    }
   ],
   "source": [
    "num_list"
   ]
  },
  {
   "cell_type": "code",
   "execution_count": 63,
   "id": "8d58fa8b-a46d-4f94-8d90-dbd0d4edf7fe",
   "metadata": {},
   "outputs": [],
   "source": [
    "num_list.reverse()"
   ]
  },
  {
   "cell_type": "code",
   "execution_count": 64,
   "id": "b7e98b96-1ae0-436a-92f3-644757362cf8",
   "metadata": {},
   "outputs": [],
   "source": [
    "mylist.reverse()"
   ]
  },
  {
   "cell_type": "code",
   "execution_count": 65,
   "id": "df3e541d-f368-4222-8f0d-f1ae59a621a9",
   "metadata": {},
   "outputs": [
    {
     "data": {
      "text/plain": [
       "[9, 6, 5, 4, 2, 1, 0]"
      ]
     },
     "execution_count": 65,
     "metadata": {},
     "output_type": "execute_result"
    }
   ],
   "source": [
    "num_list"
   ]
  },
  {
   "cell_type": "code",
   "execution_count": 66,
   "id": "88939502-5f9a-444e-b9a5-d1bd20260727",
   "metadata": {},
   "outputs": [
    {
     "data": {
      "text/plain": [
       "['y', 't', 's', 'd', 'a']"
      ]
     },
     "execution_count": 66,
     "metadata": {},
     "output_type": "execute_result"
    }
   ],
   "source": [
    "mylist"
   ]
  },
  {
   "cell_type": "code",
   "execution_count": 67,
   "id": "64daa09d-cb30-4aed-9fae-9d875d9e6247",
   "metadata": {},
   "outputs": [],
   "source": [
    "mydict = {'key 1':'value 1','key 2':'value 2' }"
   ]
  },
  {
   "cell_type": "code",
   "execution_count": 68,
   "id": "2834eee8-9576-44f4-9bba-88598fd88ab3",
   "metadata": {},
   "outputs": [
    {
     "data": {
      "text/plain": [
       "'value 1'"
      ]
     },
     "execution_count": 68,
     "metadata": {},
     "output_type": "execute_result"
    }
   ],
   "source": [
    "mydict['key 1']"
   ]
  },
  {
   "cell_type": "code",
   "execution_count": 69,
   "id": "d719812e-a3af-41cb-a1c0-310da7ccd509",
   "metadata": {},
   "outputs": [],
   "source": [
    "prices_lookup = {'apple':2.99, 'oranges':4.55, 'milk':3.99}"
   ]
  },
  {
   "cell_type": "code",
   "execution_count": 70,
   "id": "4043a839-d3d8-44ec-b81c-409397a00656",
   "metadata": {},
   "outputs": [
    {
     "data": {
      "text/plain": [
       "2.99"
      ]
     },
     "execution_count": 70,
     "metadata": {},
     "output_type": "execute_result"
    }
   ],
   "source": [
    "prices_lookup['apple']"
   ]
  },
  {
   "cell_type": "code",
   "execution_count": 71,
   "id": "2d1bcf4f-a1cd-4322-b42b-d19c899347cb",
   "metadata": {},
   "outputs": [],
   "source": [
    "mydict['key 3'] = 'value 3'"
   ]
  },
  {
   "cell_type": "code",
   "execution_count": 72,
   "id": "8ea34f42-7894-4cb3-85b7-2444de228896",
   "metadata": {},
   "outputs": [
    {
     "data": {
      "text/plain": [
       "{'key 1': 'value 1', 'key 2': 'value 2', 'key 3': 'value 3'}"
      ]
     },
     "execution_count": 72,
     "metadata": {},
     "output_type": "execute_result"
    }
   ],
   "source": [
    "mydict"
   ]
  },
  {
   "cell_type": "code",
   "execution_count": 73,
   "id": "e9a98f23-1478-4c32-a1ca-968d227c82b9",
   "metadata": {},
   "outputs": [],
   "source": [
    "mydict['key 1'] = 'NEW VALUE'"
   ]
  },
  {
   "cell_type": "code",
   "execution_count": 74,
   "id": "a8f003f5-54ab-496c-9833-7bb4419d2af3",
   "metadata": {},
   "outputs": [
    {
     "data": {
      "text/plain": [
       "{'key 1': 'NEW VALUE', 'key 2': 'value 2', 'key 3': 'value 3'}"
      ]
     },
     "execution_count": 74,
     "metadata": {},
     "output_type": "execute_result"
    }
   ],
   "source": [
    "mydict"
   ]
  },
  {
   "cell_type": "code",
   "execution_count": 75,
   "id": "1f16e805-f63e-4303-af37-64ba141d623d",
   "metadata": {},
   "outputs": [
    {
     "data": {
      "text/plain": [
       "dict_values(['NEW VALUE', 'value 2', 'value 3'])"
      ]
     },
     "execution_count": 75,
     "metadata": {},
     "output_type": "execute_result"
    }
   ],
   "source": [
    "mydict.values()"
   ]
  },
  {
   "cell_type": "code",
   "execution_count": 76,
   "id": "b6450253-ea66-4727-a652-2de7f766d8f3",
   "metadata": {},
   "outputs": [
    {
     "data": {
      "text/plain": [
       "dict_keys(['key 1', 'key 2', 'key 3'])"
      ]
     },
     "execution_count": 76,
     "metadata": {},
     "output_type": "execute_result"
    }
   ],
   "source": [
    "mydict.keys()"
   ]
  },
  {
   "cell_type": "code",
   "execution_count": 77,
   "id": "ddbdc0e7-b721-49df-9272-efc56212c2ce",
   "metadata": {},
   "outputs": [
    {
     "data": {
      "text/plain": [
       "dict_items([('key 1', 'NEW VALUE'), ('key 2', 'value 2'), ('key 3', 'value 3')])"
      ]
     },
     "execution_count": 77,
     "metadata": {},
     "output_type": "execute_result"
    }
   ],
   "source": [
    "mydict.items()"
   ]
  },
  {
   "cell_type": "code",
   "execution_count": 78,
   "id": "49e60916-b917-4afb-b45c-31418f2478ac",
   "metadata": {},
   "outputs": [],
   "source": [
    "t = (1,2,3,4)"
   ]
  },
  {
   "cell_type": "code",
   "execution_count": 79,
   "id": "7f58b2fc-d5d6-4b27-8cfe-c51f5ef3d560",
   "metadata": {},
   "outputs": [
    {
     "data": {
      "text/plain": [
       "4"
      ]
     },
     "execution_count": 79,
     "metadata": {},
     "output_type": "execute_result"
    }
   ],
   "source": [
    "len(t)"
   ]
  },
  {
   "cell_type": "code",
   "execution_count": 80,
   "id": "6dfab6b5-126e-4b18-b4aa-3eaaa638f7a9",
   "metadata": {},
   "outputs": [],
   "source": [
    "t = ('one', 2)"
   ]
  },
  {
   "cell_type": "code",
   "execution_count": 81,
   "id": "a26f0ec1-7bb3-4091-a04b-367bc98ee9fd",
   "metadata": {},
   "outputs": [
    {
     "data": {
      "text/plain": [
       "('one', 2)"
      ]
     },
     "execution_count": 81,
     "metadata": {},
     "output_type": "execute_result"
    }
   ],
   "source": [
    "t"
   ]
  },
  {
   "cell_type": "code",
   "execution_count": 82,
   "id": "3c376290-b0d4-4240-a8c9-a346432ac285",
   "metadata": {},
   "outputs": [
    {
     "data": {
      "text/plain": [
       "'one'"
      ]
     },
     "execution_count": 82,
     "metadata": {},
     "output_type": "execute_result"
    }
   ],
   "source": [
    "t[0]"
   ]
  },
  {
   "cell_type": "code",
   "execution_count": 83,
   "id": "6e90ae36-c011-4c40-b88c-539009ef2ef1",
   "metadata": {},
   "outputs": [
    {
     "data": {
      "text/plain": [
       "2"
      ]
     },
     "execution_count": 83,
     "metadata": {},
     "output_type": "execute_result"
    }
   ],
   "source": [
    "t[-1]"
   ]
  },
  {
   "cell_type": "code",
   "execution_count": 84,
   "id": "edf659fd-e613-4e3b-a686-20843ca3af56",
   "metadata": {},
   "outputs": [],
   "source": [
    "t = ('a','a','b')"
   ]
  },
  {
   "cell_type": "code",
   "execution_count": 85,
   "id": "9ee54537-2adf-4a93-933e-40e960cc1f73",
   "metadata": {},
   "outputs": [
    {
     "data": {
      "text/plain": [
       "2"
      ]
     },
     "execution_count": 85,
     "metadata": {},
     "output_type": "execute_result"
    }
   ],
   "source": [
    "t.count('a')"
   ]
  },
  {
   "cell_type": "code",
   "execution_count": 86,
   "id": "6778d71c-ccbc-408d-8c2b-7775cd5953c2",
   "metadata": {},
   "outputs": [
    {
     "data": {
      "text/plain": [
       "0"
      ]
     },
     "execution_count": 86,
     "metadata": {},
     "output_type": "execute_result"
    }
   ],
   "source": [
    "t.index('a')"
   ]
  },
  {
   "cell_type": "code",
   "execution_count": 87,
   "id": "b5869695-5603-4fb6-b457-729a1ec7e459",
   "metadata": {},
   "outputs": [],
   "source": [
    "myset = set()"
   ]
  },
  {
   "cell_type": "code",
   "execution_count": 88,
   "id": "1f23313a-667e-4f68-ab51-632bfd2bd22d",
   "metadata": {},
   "outputs": [
    {
     "data": {
      "text/plain": [
       "set()"
      ]
     },
     "execution_count": 88,
     "metadata": {},
     "output_type": "execute_result"
    }
   ],
   "source": [
    "myset"
   ]
  },
  {
   "cell_type": "code",
   "execution_count": 89,
   "id": "30854c78-322a-46de-b903-be8a0f460e97",
   "metadata": {},
   "outputs": [],
   "source": [
    "myset.add(1)"
   ]
  },
  {
   "cell_type": "code",
   "execution_count": 90,
   "id": "a193f893-1212-4796-a7a1-087e4d6304fd",
   "metadata": {},
   "outputs": [
    {
     "data": {
      "text/plain": [
       "{1}"
      ]
     },
     "execution_count": 90,
     "metadata": {},
     "output_type": "execute_result"
    }
   ],
   "source": [
    "myset"
   ]
  },
  {
   "cell_type": "code",
   "execution_count": 91,
   "id": "36d6c2ae-ab36-4c47-a715-80d154f03051",
   "metadata": {},
   "outputs": [],
   "source": [
    "myset.add(2)"
   ]
  },
  {
   "cell_type": "code",
   "execution_count": 92,
   "id": "b607e241-5463-4d20-8b4c-210efe3c9b47",
   "metadata": {},
   "outputs": [],
   "source": [
    "myset.add(2)"
   ]
  },
  {
   "cell_type": "code",
   "execution_count": 93,
   "id": "77d6bca3-1ea1-4556-a40a-945001cc7380",
   "metadata": {},
   "outputs": [
    {
     "data": {
      "text/plain": [
       "{1, 2}"
      ]
     },
     "execution_count": 93,
     "metadata": {},
     "output_type": "execute_result"
    }
   ],
   "source": [
    "myset"
   ]
  },
  {
   "cell_type": "code",
   "execution_count": 94,
   "id": "0a9d0a3e-5b61-47dd-b0ab-681b5ac6f8ff",
   "metadata": {},
   "outputs": [
    {
     "data": {
      "text/plain": [
       "['y', 't', 's', 'd', 'a']"
      ]
     },
     "execution_count": 94,
     "metadata": {},
     "output_type": "execute_result"
    }
   ],
   "source": [
    "mylist "
   ]
  },
  {
   "cell_type": "code",
   "execution_count": 95,
   "id": "97cf1ce2-9820-41ae-b8e9-fce134d64ae6",
   "metadata": {},
   "outputs": [],
   "source": [
    "mylist = [1,1,2,2,2,4,4,5]"
   ]
  },
  {
   "cell_type": "code",
   "execution_count": 96,
   "id": "c5d80016-aa54-4eb8-a001-b95254c0aeeb",
   "metadata": {},
   "outputs": [
    {
     "data": {
      "text/plain": [
       "{1, 2, 4, 5}"
      ]
     },
     "execution_count": 96,
     "metadata": {},
     "output_type": "execute_result"
    }
   ],
   "source": [
    "set(mylist)"
   ]
  },
  {
   "cell_type": "code",
   "execution_count": 97,
   "id": "0fe2adae-d41c-47c6-9871-133b9b57ae0c",
   "metadata": {},
   "outputs": [
    {
     "data": {
      "text/plain": [
       "True"
      ]
     },
     "execution_count": 97,
     "metadata": {},
     "output_type": "execute_result"
    }
   ],
   "source": [
    "True"
   ]
  },
  {
   "cell_type": "code",
   "execution_count": 98,
   "id": "e16b4e16-8921-4906-9322-dbb236883f7b",
   "metadata": {},
   "outputs": [
    {
     "data": {
      "text/plain": [
       "False"
      ]
     },
     "execution_count": 98,
     "metadata": {},
     "output_type": "execute_result"
    }
   ],
   "source": [
    "False"
   ]
  },
  {
   "cell_type": "code",
   "execution_count": 99,
   "id": "fccecb20-f12e-4906-baa4-bf7fc051c745",
   "metadata": {},
   "outputs": [
    {
     "data": {
      "text/plain": [
       "bool"
      ]
     },
     "execution_count": 99,
     "metadata": {},
     "output_type": "execute_result"
    }
   ],
   "source": [
    "type(False)"
   ]
  },
  {
   "cell_type": "code",
   "execution_count": 100,
   "id": "7d2ac432-cb31-4ab7-b1cd-8960f4c32aad",
   "metadata": {},
   "outputs": [],
   "source": [
    "b = None               # placeholder"
   ]
  },
  {
   "cell_type": "code",
   "execution_count": 101,
   "id": "70e83b57-a92a-4500-8d18-9a3f5cc9c547",
   "metadata": {},
   "outputs": [],
   "source": [
    "b"
   ]
  },
  {
   "cell_type": "code",
   "execution_count": 102,
   "id": "502eeecc-bc6e-4e15-afe9-357acff61a7a",
   "metadata": {},
   "outputs": [
    {
     "name": "stdout",
     "output_type": "stream",
     "text": [
      "Overwriting myfile.txt\n"
     ]
    }
   ],
   "source": [
    "%%writefile myfile.txt\n",
    "Hello this is a text file\n",
    "this is the second line\n",
    "this is the third line"
   ]
  },
  {
   "cell_type": "code",
   "execution_count": 103,
   "id": "9b8e2ed2-2dc5-43c4-868b-7e78dfe8c109",
   "metadata": {},
   "outputs": [],
   "source": [
    "myfile = open('myfile.txt')"
   ]
  },
  {
   "cell_type": "code",
   "execution_count": 104,
   "id": "4e33fc37-a0dc-45cb-8ff5-8a1729993401",
   "metadata": {},
   "outputs": [
    {
     "data": {
      "text/plain": [
       "'C:\\\\Users\\\\Admin\\\\My Python Stuff'"
      ]
     },
     "execution_count": 104,
     "metadata": {},
     "output_type": "execute_result"
    }
   ],
   "source": [
    "pwd"
   ]
  },
  {
   "cell_type": "code",
   "execution_count": 105,
   "id": "43f8459c-78e1-42ec-8906-f0b45583ca5d",
   "metadata": {},
   "outputs": [],
   "source": [
    "myfile = open('myfile.txt')"
   ]
  },
  {
   "cell_type": "code",
   "execution_count": 106,
   "id": "f401cd32-1bc9-4fef-84f2-9121dbf45a91",
   "metadata": {},
   "outputs": [
    {
     "data": {
      "text/plain": [
       "'Hello this is a text file\\nthis is the second line\\nthis is the third line\\n'"
      ]
     },
     "execution_count": 106,
     "metadata": {},
     "output_type": "execute_result"
    }
   ],
   "source": [
    "myfile.read()"
   ]
  },
  {
   "cell_type": "code",
   "execution_count": 107,
   "id": "abec72b0-809a-46df-99e3-37bd068dfc93",
   "metadata": {},
   "outputs": [
    {
     "data": {
      "text/plain": [
       "''"
      ]
     },
     "execution_count": 107,
     "metadata": {},
     "output_type": "execute_result"
    }
   ],
   "source": [
    "myfile.read()"
   ]
  },
  {
   "cell_type": "code",
   "execution_count": 108,
   "id": "6e619391-0402-4942-8071-a7295584e132",
   "metadata": {},
   "outputs": [
    {
     "data": {
      "text/plain": [
       "0"
      ]
     },
     "execution_count": 108,
     "metadata": {},
     "output_type": "execute_result"
    }
   ],
   "source": [
    "myfile.seek(0)"
   ]
  },
  {
   "cell_type": "code",
   "execution_count": 109,
   "id": "93de040c-3c4d-4f7e-9eb7-35fc626c3595",
   "metadata": {},
   "outputs": [
    {
     "data": {
      "text/plain": [
       "'Hello this is a text file\\nthis is the second line\\nthis is the third line\\n'"
      ]
     },
     "execution_count": 109,
     "metadata": {},
     "output_type": "execute_result"
    }
   ],
   "source": [
    "myfile.read()"
   ]
  },
  {
   "cell_type": "code",
   "execution_count": 110,
   "id": "a11cce0a-6517-4655-95e7-74cfc2575cb5",
   "metadata": {},
   "outputs": [
    {
     "data": {
      "text/plain": [
       "0"
      ]
     },
     "execution_count": 110,
     "metadata": {},
     "output_type": "execute_result"
    }
   ],
   "source": [
    "myfile.seek(0)"
   ]
  },
  {
   "cell_type": "code",
   "execution_count": 111,
   "id": "c4f62217-1693-4536-ad3f-30df50a1dde9",
   "metadata": {},
   "outputs": [
    {
     "data": {
      "text/plain": [
       "['Hello this is a text file\\n',\n",
       " 'this is the second line\\n',\n",
       " 'this is the third line\\n']"
      ]
     },
     "execution_count": 111,
     "metadata": {},
     "output_type": "execute_result"
    }
   ],
   "source": [
    "myfile.readlines()"
   ]
  },
  {
   "cell_type": "code",
   "execution_count": 112,
   "id": "c4c2056b-6021-4138-a7d9-4b6990f7d24c",
   "metadata": {},
   "outputs": [],
   "source": [
    "myfile.close()"
   ]
  },
  {
   "cell_type": "code",
   "execution_count": 113,
   "id": "727c1be4-0d06-4957-8353-b3d0c5081172",
   "metadata": {},
   "outputs": [],
   "source": [
    "with open('myfile.txt') as my_new_file:\n",
    "    contents = my_new_file.read()"
   ]
  },
  {
   "cell_type": "code",
   "execution_count": 114,
   "id": "78ce13f6-50cb-4575-804a-ec2cc8d1b061",
   "metadata": {},
   "outputs": [
    {
     "data": {
      "text/plain": [
       "'Hello this is a text file\\nthis is the second line\\nthis is the third line\\n'"
      ]
     },
     "execution_count": 114,
     "metadata": {},
     "output_type": "execute_result"
    }
   ],
   "source": [
    "contents"
   ]
  },
  {
   "cell_type": "code",
   "execution_count": 115,
   "id": "cad9fa0b-ce3d-49a1-aa66-0042d0b699ec",
   "metadata": {},
   "outputs": [],
   "source": [
    "with open('myfile.txt', mode = 'r') as my_new_file:\n",
    "    contents = my_new_file.read()"
   ]
  },
  {
   "cell_type": "code",
   "execution_count": 116,
   "id": "26073024-01c0-4384-9ad2-7394839deb18",
   "metadata": {},
   "outputs": [
    {
     "data": {
      "text/plain": [
       "'Hello this is a text file\\nthis is the second line\\nthis is the third line\\n'"
      ]
     },
     "execution_count": 116,
     "metadata": {},
     "output_type": "execute_result"
    }
   ],
   "source": [
    "contents"
   ]
  },
  {
   "cell_type": "code",
   "execution_count": 117,
   "id": "56dacba6-0f87-47ed-9981-4ea728ca391f",
   "metadata": {},
   "outputs": [
    {
     "name": "stdout",
     "output_type": "stream",
     "text": [
      "Hello this is a text file\n",
      "this is the second line\n",
      "this is the third line\n",
      "\n"
     ]
    }
   ],
   "source": [
    "with open('myfile.txt', mode = 'r') as my_new_file:\n",
    "    print(my_new_file.read())"
   ]
  },
  {
   "cell_type": "code",
   "execution_count": 118,
   "id": "9c83b157-fb21-4fa8-bf51-38560166684c",
   "metadata": {},
   "outputs": [],
   "source": [
    "with open('myfile.txt', mode = 'a') as my_new_file:\n",
    "    my_new_file.write('APPENDED')"
   ]
  },
  {
   "cell_type": "code",
   "execution_count": 119,
   "id": "f1caca0d-cdb0-4484-b32d-6212f4019cfa",
   "metadata": {},
   "outputs": [
    {
     "name": "stdout",
     "output_type": "stream",
     "text": [
      "Hello this is a text file\n",
      "this is the second line\n",
      "this is the third line\n",
      "APPENDED\n"
     ]
    }
   ],
   "source": [
    "with open('myfile.txt', mode = 'r') as my_new_file:\n",
    "    print(my_new_file.read())"
   ]
  },
  {
   "cell_type": "code",
   "execution_count": 120,
   "id": "770f15d8-43fb-4d79-9ff0-cc92e9d94dbc",
   "metadata": {},
   "outputs": [
    {
     "data": {
      "text/plain": [
       "[0, 1, 2, 4, 5, 6, 9]"
      ]
     },
     "execution_count": 120,
     "metadata": {},
     "output_type": "execute_result"
    }
   ],
   "source": [
    "sorted(num_list)"
   ]
  },
  {
   "cell_type": "code",
   "execution_count": null,
   "id": "5bd6f1da-a3ed-4dd2-84e3-679c31a8467e",
   "metadata": {},
   "outputs": [],
   "source": []
  }
 ],
 "metadata": {
  "kernelspec": {
   "display_name": "Python [conda env:base] *",
   "language": "python",
   "name": "conda-base-py"
  },
  "language_info": {
   "codemirror_mode": {
    "name": "ipython",
    "version": 3
   },
   "file_extension": ".py",
   "mimetype": "text/x-python",
   "name": "python",
   "nbconvert_exporter": "python",
   "pygments_lexer": "ipython3",
   "version": "3.12.7"
  }
 },
 "nbformat": 4,
 "nbformat_minor": 5
}
