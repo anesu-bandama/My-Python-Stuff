{
 "cells": [
  {
   "cell_type": "code",
   "execution_count": 1,
   "id": "9e68ba02-9188-4599-b544-8931d4ae4680",
   "metadata": {},
   "outputs": [],
   "source": [
    "import random\n",
    "\n",
    "suits = ('Hearts', 'Diamonds', 'Spades', 'Clubs')\n",
    "\n",
    "ranks = ('Two', 'Three', 'Four', 'Five', 'Six', 'Seven', 'Eight',\n",
    "         'Nine', 'Ten', 'Jack', 'Queen', 'King', 'Ace')\n",
    "\n",
    "values = {'Two':2, 'Three':3, 'Four':4, 'Five':5, 'Six':6, 'Seven':7, 'Eight':8,\n",
    "         'Nine':9, 'Ten':10, 'Jack':11, 'Queen':12, 'King':13, 'Ace':14}\n",
    "\n",
    "class Card():\n",
    "    \n",
    "    def __init__(self,suit,rank):\n",
    "        self.suit = suit\n",
    "        self.rank = rank\n",
    "        self.value = values[rank]\n",
    "\n",
    "    def __str__(self):\n",
    "        return self.rank + \" of \" + self.suit\n",
    "        "
   ]
  },
  {
   "cell_type": "code",
   "execution_count": 2,
   "id": "847fe192-0f45-4292-a639-14cf7063a05e",
   "metadata": {},
   "outputs": [],
   "source": [
    "two_hearts = Card('Hearts','Two')"
   ]
  },
  {
   "cell_type": "code",
   "execution_count": 3,
   "id": "67364ce5-db8a-4984-874d-9ee05ca45cd5",
   "metadata": {},
   "outputs": [
    {
     "name": "stdout",
     "output_type": "stream",
     "text": [
      "Two of Hearts\n"
     ]
    }
   ],
   "source": [
    "print(two_hearts)"
   ]
  },
  {
   "cell_type": "code",
   "execution_count": 4,
   "id": "e1164cfc-8730-48c1-9dee-11b87c60e5e7",
   "metadata": {},
   "outputs": [
    {
     "data": {
      "text/plain": [
       "'Hearts'"
      ]
     },
     "execution_count": 4,
     "metadata": {},
     "output_type": "execute_result"
    }
   ],
   "source": [
    "two_hearts.suit"
   ]
  },
  {
   "cell_type": "code",
   "execution_count": 5,
   "id": "49eb378c-a77d-46b6-a0ab-08b930502bb7",
   "metadata": {},
   "outputs": [
    {
     "data": {
      "text/plain": [
       "'Two'"
      ]
     },
     "execution_count": 5,
     "metadata": {},
     "output_type": "execute_result"
    }
   ],
   "source": [
    "two_hearts.rank"
   ]
  },
  {
   "cell_type": "code",
   "execution_count": 6,
   "id": "74658d3b-2622-44ec-9ce9-26df540274c4",
   "metadata": {},
   "outputs": [],
   "source": [
    "three_of_clubs = Card('Clubs','Three')"
   ]
  },
  {
   "cell_type": "code",
   "execution_count": 7,
   "id": "bd46bd5b-6bb0-4da1-a3f0-dbbfe2be0961",
   "metadata": {},
   "outputs": [
    {
     "data": {
      "text/plain": [
       "'Three'"
      ]
     },
     "execution_count": 7,
     "metadata": {},
     "output_type": "execute_result"
    }
   ],
   "source": [
    "three_of_clubs.rank"
   ]
  },
  {
   "cell_type": "code",
   "execution_count": 8,
   "id": "2ed4d677-0a41-4d2b-aa39-c6aa197e0a69",
   "metadata": {},
   "outputs": [
    {
     "data": {
      "text/plain": [
       "'Clubs'"
      ]
     },
     "execution_count": 8,
     "metadata": {},
     "output_type": "execute_result"
    }
   ],
   "source": [
    "three_of_clubs.suit"
   ]
  },
  {
   "cell_type": "code",
   "execution_count": 9,
   "id": "89b6d496-164d-48ae-b767-b86d1732b635",
   "metadata": {},
   "outputs": [
    {
     "data": {
      "text/plain": [
       "3"
      ]
     },
     "execution_count": 9,
     "metadata": {},
     "output_type": "execute_result"
    }
   ],
   "source": [
    "three_of_clubs.value"
   ]
  },
  {
   "cell_type": "code",
   "execution_count": null,
   "id": "4b056658-62da-481b-b821-42b05abdc6e2",
   "metadata": {},
   "outputs": [],
   "source": []
  },
  {
   "cell_type": "code",
   "execution_count": null,
   "id": "58675ce2-f7d6-4212-b7e1-ce930397bfd8",
   "metadata": {},
   "outputs": [],
   "source": []
  },
  {
   "cell_type": "code",
   "execution_count": null,
   "id": "330b85af-a91a-4a52-9cea-4b826fa4a57c",
   "metadata": {},
   "outputs": [],
   "source": []
  },
  {
   "cell_type": "code",
   "execution_count": null,
   "id": "7531bf0a-1570-47ae-b6ae-8e93438096ca",
   "metadata": {},
   "outputs": [],
   "source": []
  },
  {
   "cell_type": "code",
   "execution_count": null,
   "id": "2578658e-0d19-4eed-b2bd-5b0b91dd5967",
   "metadata": {},
   "outputs": [],
   "source": []
  },
  {
   "cell_type": "code",
   "execution_count": 10,
   "id": "bdfc2385-bc4e-4263-b150-3cf2b48cec1c",
   "metadata": {},
   "outputs": [],
   "source": [
    "class Deck():\n",
    "\n",
    "    def __init__(self):\n",
    "\n",
    "        # List of all cards\n",
    "        self.all_cards = []\n",
    "        \n",
    "        for suit in suits:\n",
    "            for rank in ranks:\n",
    "                # Create card object\n",
    "                created_card = Card(suit,rank)\n",
    "                # Add created card to list\n",
    "                self.all_cards.append(Card(suit,rank))\n",
    "\n",
    "    def shuffle(self):\n",
    "        random.shuffle(self.all_cards)\n",
    "\n",
    "    def deal_one(self):\n",
    "        return self.all_cards.pop()"
   ]
  },
  {
   "cell_type": "code",
   "execution_count": 11,
   "id": "1de7bb49-4e4e-4a0c-b168-1bed6e5752ae",
   "metadata": {},
   "outputs": [],
   "source": [
    "new_deck = Deck()"
   ]
  },
  {
   "cell_type": "code",
   "execution_count": 12,
   "id": "da5b602d-6834-40c0-bf09-da1db65047fa",
   "metadata": {},
   "outputs": [
    {
     "data": {
      "text/plain": [
       "[<__main__.Card at 0x11fc363f740>,\n",
       " <__main__.Card at 0x11fc363e8d0>,\n",
       " <__main__.Card at 0x11fc363fef0>,\n",
       " <__main__.Card at 0x11fc363f7a0>,\n",
       " <__main__.Card at 0x11fc363ffe0>,\n",
       " <__main__.Card at 0x11fc363d370>,\n",
       " <__main__.Card at 0x11fc363ff20>,\n",
       " <__main__.Card at 0x11fc363ff50>,\n",
       " <__main__.Card at 0x11fc363ff80>,\n",
       " <__main__.Card at 0x11fc363ffb0>,\n",
       " <__main__.Card at 0x11fc363f6b0>,\n",
       " <__main__.Card at 0x11fc3670050>,\n",
       " <__main__.Card at 0x11fc3670080>,\n",
       " <__main__.Card at 0x11fc3670110>,\n",
       " <__main__.Card at 0x11fc3670170>,\n",
       " <__main__.Card at 0x11fc36701d0>,\n",
       " <__main__.Card at 0x11fc3670230>,\n",
       " <__main__.Card at 0x11fc3670290>,\n",
       " <__main__.Card at 0x11fc36702f0>,\n",
       " <__main__.Card at 0x11fc3670350>,\n",
       " <__main__.Card at 0x11fc36703b0>,\n",
       " <__main__.Card at 0x11fc3670410>,\n",
       " <__main__.Card at 0x11fc3670470>,\n",
       " <__main__.Card at 0x11fc36704d0>,\n",
       " <__main__.Card at 0x11fc3670530>,\n",
       " <__main__.Card at 0x11fc3670590>,\n",
       " <__main__.Card at 0x11fc36705f0>,\n",
       " <__main__.Card at 0x11fc3670650>,\n",
       " <__main__.Card at 0x11fc36706b0>,\n",
       " <__main__.Card at 0x11fc3670710>,\n",
       " <__main__.Card at 0x11fc3670770>,\n",
       " <__main__.Card at 0x11fc36707d0>,\n",
       " <__main__.Card at 0x11fc3670830>,\n",
       " <__main__.Card at 0x11fc3670890>,\n",
       " <__main__.Card at 0x11fc36708f0>,\n",
       " <__main__.Card at 0x11fc3670950>,\n",
       " <__main__.Card at 0x11fc36709b0>,\n",
       " <__main__.Card at 0x11fc3670a10>,\n",
       " <__main__.Card at 0x11fc3670a70>,\n",
       " <__main__.Card at 0x11fc3670ad0>,\n",
       " <__main__.Card at 0x11fc3670b30>,\n",
       " <__main__.Card at 0x11fc3670b90>,\n",
       " <__main__.Card at 0x11fc3670bf0>,\n",
       " <__main__.Card at 0x11fc3670c50>,\n",
       " <__main__.Card at 0x11fc3670cb0>,\n",
       " <__main__.Card at 0x11fc3670d10>,\n",
       " <__main__.Card at 0x11fc3670d70>,\n",
       " <__main__.Card at 0x11fc3670dd0>,\n",
       " <__main__.Card at 0x11fc3670e30>,\n",
       " <__main__.Card at 0x11fc3670e90>,\n",
       " <__main__.Card at 0x11fc3670ef0>,\n",
       " <__main__.Card at 0x11fc3670f50>]"
      ]
     },
     "execution_count": 12,
     "metadata": {},
     "output_type": "execute_result"
    }
   ],
   "source": [
    "new_deck.all_cards"
   ]
  },
  {
   "cell_type": "code",
   "execution_count": 13,
   "id": "93db09ed-711c-499d-89cf-b5f1ccc4e9fb",
   "metadata": {},
   "outputs": [],
   "source": [
    "first_card = new_deck.all_cards[0]"
   ]
  },
  {
   "cell_type": "code",
   "execution_count": 14,
   "id": "a595e741-065e-44d4-b870-900bb2cf65d2",
   "metadata": {},
   "outputs": [
    {
     "data": {
      "text/plain": [
       "'Two'"
      ]
     },
     "execution_count": 14,
     "metadata": {},
     "output_type": "execute_result"
    }
   ],
   "source": [
    "first_card.rank"
   ]
  },
  {
   "cell_type": "code",
   "execution_count": 15,
   "id": "4e96bad8-0614-44eb-b683-f289a05fbc26",
   "metadata": {},
   "outputs": [
    {
     "data": {
      "text/plain": [
       "'Hearts'"
      ]
     },
     "execution_count": 15,
     "metadata": {},
     "output_type": "execute_result"
    }
   ],
   "source": [
    "first_card.suit"
   ]
  },
  {
   "cell_type": "code",
   "execution_count": 16,
   "id": "1112d8f4-c821-4137-8d3a-898f9b90b71f",
   "metadata": {},
   "outputs": [
    {
     "data": {
      "text/plain": [
       "2"
      ]
     },
     "execution_count": 16,
     "metadata": {},
     "output_type": "execute_result"
    }
   ],
   "source": [
    "first_card.value"
   ]
  },
  {
   "cell_type": "code",
   "execution_count": 17,
   "id": "7b86d035-d8ed-46c5-9228-9882b0ccdf3f",
   "metadata": {},
   "outputs": [
    {
     "name": "stdout",
     "output_type": "stream",
     "text": [
      "Two of Hearts\n"
     ]
    }
   ],
   "source": [
    "print(first_card)"
   ]
  },
  {
   "cell_type": "code",
   "execution_count": 18,
   "id": "ee8bcb13-2dba-47c6-9b28-62fb8a64a491",
   "metadata": {},
   "outputs": [],
   "source": [
    "bottom_card = new_deck.all_cards[-1]"
   ]
  },
  {
   "cell_type": "code",
   "execution_count": 19,
   "id": "c35244b2-73ee-4463-8606-56d47df37876",
   "metadata": {},
   "outputs": [
    {
     "name": "stdout",
     "output_type": "stream",
     "text": [
      "Ace of Clubs\n"
     ]
    }
   ],
   "source": [
    "print(bottom_card)"
   ]
  },
  {
   "cell_type": "code",
   "execution_count": 20,
   "id": "bf8893c2-f02e-48c0-a2ca-807480fad763",
   "metadata": {},
   "outputs": [
    {
     "name": "stdout",
     "output_type": "stream",
     "text": [
      "Two of Hearts\n",
      "Three of Hearts\n",
      "Four of Hearts\n",
      "Five of Hearts\n",
      "Six of Hearts\n",
      "Seven of Hearts\n",
      "Eight of Hearts\n",
      "Nine of Hearts\n",
      "Ten of Hearts\n",
      "Jack of Hearts\n",
      "Queen of Hearts\n",
      "King of Hearts\n",
      "Ace of Hearts\n",
      "Two of Diamonds\n",
      "Three of Diamonds\n",
      "Four of Diamonds\n",
      "Five of Diamonds\n",
      "Six of Diamonds\n",
      "Seven of Diamonds\n",
      "Eight of Diamonds\n",
      "Nine of Diamonds\n",
      "Ten of Diamonds\n",
      "Jack of Diamonds\n",
      "Queen of Diamonds\n",
      "King of Diamonds\n",
      "Ace of Diamonds\n",
      "Two of Spades\n",
      "Three of Spades\n",
      "Four of Spades\n",
      "Five of Spades\n",
      "Six of Spades\n",
      "Seven of Spades\n",
      "Eight of Spades\n",
      "Nine of Spades\n",
      "Ten of Spades\n",
      "Jack of Spades\n",
      "Queen of Spades\n",
      "King of Spades\n",
      "Ace of Spades\n",
      "Two of Clubs\n",
      "Three of Clubs\n",
      "Four of Clubs\n",
      "Five of Clubs\n",
      "Six of Clubs\n",
      "Seven of Clubs\n",
      "Eight of Clubs\n",
      "Nine of Clubs\n",
      "Ten of Clubs\n",
      "Jack of Clubs\n",
      "Queen of Clubs\n",
      "King of Clubs\n",
      "Ace of Clubs\n"
     ]
    }
   ],
   "source": [
    "for card_object in new_deck.all_cards:\n",
    "    print(card_object)"
   ]
  },
  {
   "cell_type": "code",
   "execution_count": 21,
   "id": "eecbbeaa-87d7-4e47-a7cd-3e904aa56aae",
   "metadata": {},
   "outputs": [],
   "source": [
    "new_deck.shuffle()"
   ]
  },
  {
   "cell_type": "code",
   "execution_count": 22,
   "id": "3925e744-f84b-41dd-b1cd-6cb2c5650067",
   "metadata": {},
   "outputs": [
    {
     "name": "stdout",
     "output_type": "stream",
     "text": [
      "Jack of Diamonds\n"
     ]
    }
   ],
   "source": [
    "print(new_deck.all_cards[-1])"
   ]
  },
  {
   "cell_type": "code",
   "execution_count": 23,
   "id": "ae518e6f-0cb8-4fe2-baa6-432cf7ff4424",
   "metadata": {},
   "outputs": [],
   "source": [
    "mycard = new_deck.deal_one()"
   ]
  },
  {
   "cell_type": "code",
   "execution_count": 24,
   "id": "e00b133a-b9be-4567-91f2-c47c0939bf35",
   "metadata": {},
   "outputs": [
    {
     "name": "stdout",
     "output_type": "stream",
     "text": [
      "Jack of Diamonds\n"
     ]
    }
   ],
   "source": [
    "print(mycard)"
   ]
  },
  {
   "cell_type": "code",
   "execution_count": 25,
   "id": "971d2425-78d9-4be3-85a9-824913498534",
   "metadata": {},
   "outputs": [
    {
     "data": {
      "text/plain": [
       "51"
      ]
     },
     "execution_count": 25,
     "metadata": {},
     "output_type": "execute_result"
    }
   ],
   "source": [
    "len(new_deck.all_cards)"
   ]
  },
  {
   "cell_type": "code",
   "execution_count": null,
   "id": "ed09c980-e0f3-4d1d-b789-b88203f679b2",
   "metadata": {},
   "outputs": [],
   "source": []
  },
  {
   "cell_type": "code",
   "execution_count": 26,
   "id": "004d9941-7da8-4ca5-8fde-c2b707b40ccc",
   "metadata": {},
   "outputs": [],
   "source": [
    "class Player():\n",
    "\n",
    "    def __init__(self,name):\n",
    "        self.name = name\n",
    "        self.all_cards = []\n",
    "\n",
    "    def remove_one(self):\n",
    "        return self.all_cards.pop(0)\n",
    "\n",
    "    def add_cards(self,new_cards):\n",
    "        if type(new_cards) == type([]):\n",
    "            # List of multiple card objects\n",
    "            self.all_cards.extend(new_cards)\n",
    "        else:\n",
    "            # For a single card object\n",
    "            self.all_cards.append(new_cards)\n",
    "\n",
    "    def __str__(self):\n",
    "        return f'Player {self.name} has {len(self.all_cards)} cards.'"
   ]
  },
  {
   "cell_type": "code",
   "execution_count": 27,
   "id": "b6a2d5bc-649a-42d3-9285-010bdd7838c9",
   "metadata": {},
   "outputs": [],
   "source": [
    "new_player = Player('Jose')"
   ]
  },
  {
   "cell_type": "code",
   "execution_count": 28,
   "id": "8cd69862-50ca-4893-8908-456eb38529c1",
   "metadata": {},
   "outputs": [
    {
     "name": "stdout",
     "output_type": "stream",
     "text": [
      "Player Jose has 0 cards.\n"
     ]
    }
   ],
   "source": [
    "print(new_player)"
   ]
  },
  {
   "cell_type": "code",
   "execution_count": 29,
   "id": "d93785a6-84a3-4666-be56-3946141a8896",
   "metadata": {},
   "outputs": [],
   "source": [
    "new_player.add_cards(mycard)"
   ]
  },
  {
   "cell_type": "code",
   "execution_count": 30,
   "id": "76e0b8cb-da70-40ef-b11c-f4e065009ce3",
   "metadata": {},
   "outputs": [
    {
     "name": "stdout",
     "output_type": "stream",
     "text": [
      "Player Jose has 1 cards.\n"
     ]
    }
   ],
   "source": [
    "print(new_player)"
   ]
  },
  {
   "cell_type": "code",
   "execution_count": 31,
   "id": "d5e6601e-2486-4f0d-90a0-4beb97ea82ce",
   "metadata": {},
   "outputs": [
    {
     "name": "stdout",
     "output_type": "stream",
     "text": [
      "Jack of Diamonds\n"
     ]
    }
   ],
   "source": [
    "print(new_player.all_cards[0])"
   ]
  },
  {
   "cell_type": "code",
   "execution_count": 32,
   "id": "b24aa6d0-2b28-4873-b0a6-3e20551e32c3",
   "metadata": {},
   "outputs": [
    {
     "data": {
      "text/plain": [
       "<__main__.Card at 0x11fc3670470>"
      ]
     },
     "execution_count": 32,
     "metadata": {},
     "output_type": "execute_result"
    }
   ],
   "source": [
    "new_player.remove_one()"
   ]
  },
  {
   "cell_type": "code",
   "execution_count": 33,
   "id": "bc083a94-4027-45ab-b8a5-009101c27487",
   "metadata": {},
   "outputs": [
    {
     "name": "stdout",
     "output_type": "stream",
     "text": [
      "Player Jose has 0 cards.\n"
     ]
    }
   ],
   "source": [
    "print(new_player)"
   ]
  },
  {
   "cell_type": "code",
   "execution_count": null,
   "id": "b3150ae5-d575-4672-8040-f9e636c2bb28",
   "metadata": {},
   "outputs": [],
   "source": []
  },
  {
   "cell_type": "code",
   "execution_count": null,
   "id": "870af5bf-b0c7-4f84-ac57-bbae1293dde7",
   "metadata": {},
   "outputs": [],
   "source": []
  },
  {
   "cell_type": "code",
   "execution_count": null,
   "id": "2d3f97bd-bbed-45de-a456-a71fd2f0a04a",
   "metadata": {},
   "outputs": [],
   "source": []
  },
  {
   "cell_type": "code",
   "execution_count": 34,
   "id": "6f5a226b-a387-4d34-b430-93d4af0294ad",
   "metadata": {},
   "outputs": [],
   "source": [
    "# Game Setup\n",
    "player_one = Player('One')\n",
    "player_two = Player('Two')\n",
    "\n",
    "another_deck = Deck()\n",
    "another_deck.shuffle()\n",
    "\n",
    "for x in range(26):\n",
    "    player_one.add_cards(another_deck.deal_one())\n",
    "    player_two.add_cards(another_deck.deal_one())"
   ]
  },
  {
   "cell_type": "code",
   "execution_count": 35,
   "id": "35d32b0e-4b10-42d5-a469-0134fbdeccb0",
   "metadata": {},
   "outputs": [
    {
     "data": {
      "text/plain": [
       "26"
      ]
     },
     "execution_count": 35,
     "metadata": {},
     "output_type": "execute_result"
    }
   ],
   "source": [
    "len(player_one.all_cards)"
   ]
  },
  {
   "cell_type": "code",
   "execution_count": 36,
   "id": "39231ffb-2a5b-4dd5-ac14-61c688eec1e6",
   "metadata": {},
   "outputs": [],
   "source": [
    "game_on = True"
   ]
  },
  {
   "cell_type": "code",
   "execution_count": 37,
   "id": "c21f0626-5738-4514-b8c7-faaca52d0335",
   "metadata": {},
   "outputs": [
    {
     "name": "stdout",
     "output_type": "stream",
     "text": [
      "Round 1\n",
      "Round 2\n",
      "Round 3\n",
      "Round 4\n",
      "Round 5\n",
      "Round 6\n",
      "Round 7\n",
      "Round 8\n",
      "Round 9\n",
      "Round 10\n",
      "Round 11\n",
      "Round 12\n",
      "Round 13\n",
      "WAR!!!!!!!!!!!!!!!!!\n",
      "Round 14\n",
      "Round 15\n",
      "Round 16\n",
      "Round 17\n",
      "Round 18\n",
      "Round 19\n",
      "Round 20\n",
      "Round 21\n",
      "Round 22\n",
      "Round 23\n",
      "Round 24\n",
      "Round 25\n",
      "Round 26\n",
      "Round 27\n",
      "Round 28\n",
      "Round 29\n",
      "Round 30\n",
      "Round 31\n",
      "Round 32\n",
      "WAR!!!!!!!!!!!!!!!!!\n",
      "Round 33\n",
      "Round 34\n",
      "Round 35\n",
      "Round 36\n",
      "Round 37\n",
      "Round 38\n",
      "Round 39\n",
      "Round 40\n",
      "Round 41\n",
      "Round 42\n",
      "Round 43\n",
      "WAR!!!!!!!!!!!!!!!!!\n",
      "Round 44\n",
      "Round 45\n",
      "Round 46\n",
      "Round 47\n",
      "Round 48\n",
      "Round 49\n",
      "Round 50\n",
      "Round 51\n",
      "Round 52\n",
      "Round 53\n",
      "Round 54\n",
      "Round 55\n",
      "Round 56\n",
      "Round 57\n",
      "Round 58\n",
      "Round 59\n",
      "Round 60\n",
      "Round 61\n",
      "Round 62\n",
      "Round 63\n",
      "Round 64\n",
      "WAR!!!!!!!!!!!!!!!!!\n",
      "Round 65\n",
      "Round 66\n",
      "Round 67\n",
      "Round 68\n",
      "Round 69\n",
      "Round 70\n",
      "Round 71\n",
      "Round 72\n",
      "Round 73\n",
      "Round 74\n",
      "WAR!!!!!!!!!!!!!!!!!\n",
      "Round 75\n",
      "Round 76\n",
      "Round 77\n",
      "Round 78\n",
      "Round 79\n",
      "Round 80\n",
      "Round 81\n",
      "Round 82\n",
      "Round 83\n",
      "Round 84\n",
      "Round 85\n",
      "Round 86\n",
      "Round 87\n",
      "Round 88\n",
      "Round 89\n",
      "Round 90\n",
      "Round 91\n",
      "Round 92\n",
      "Round 93\n",
      "Round 94\n",
      "Round 95\n",
      "Round 96\n",
      "Round 97\n",
      "Round 98\n",
      "Round 99\n",
      "Round 100\n",
      "Round 101\n",
      "Round 102\n",
      "Round 103\n",
      "Round 104\n",
      "Round 105\n",
      "Round 106\n",
      "Round 107\n",
      "Round 108\n",
      "Round 109\n",
      "Round 110\n",
      "Round 111\n",
      "Round 112\n",
      "WAR!!!!!!!!!!!!!!!!!\n",
      "Round 113\n",
      "Round 114\n",
      "Round 115\n",
      "Round 116\n",
      "Round 117\n",
      "Round 118\n",
      "Round 119\n",
      "Round 120\n",
      "Round 121\n",
      "Round 122\n",
      "Round 123\n",
      "Round 124\n",
      "Round 125\n",
      "Round 126\n",
      "Round 127\n",
      "Round 128\n",
      "Round 129\n",
      "Round 130\n",
      "Round 131\n",
      "Round 132\n",
      "Round 133\n",
      "Round 134\n",
      "Round 135\n",
      "Round 136\n",
      "Round 137\n",
      "Round 138\n",
      "Round 139\n",
      "Round 140\n",
      "Round 141\n",
      "Round 142\n",
      "Round 143\n",
      "Round 144\n",
      "Round 145\n",
      "Round 146\n",
      "Round 147\n",
      "Round 148\n",
      "Round 149\n",
      "Round 150\n",
      "Round 151\n",
      "Round 152\n",
      "Round 153\n",
      "Round 154\n",
      "Round 155\n",
      "Round 156\n",
      "Round 157\n",
      "Round 158\n",
      "Round 159\n",
      "Round 160\n",
      "Round 161\n",
      "Round 162\n",
      "Round 163\n",
      "Round 164\n",
      "Round 165\n",
      "Round 166\n",
      "Round 167\n",
      "Round 168\n",
      "Round 169\n",
      "Round 170\n",
      "Round 171\n",
      "Round 172\n",
      "WAR!!!!!!!!!!!!!!!!!\n",
      "Round 173\n",
      "Round 174\n",
      "Round 175\n",
      "Round 176\n",
      "Round 177\n",
      "Round 178\n",
      "Round 179\n",
      "Round 180\n",
      "Round 181\n",
      "Round 182\n",
      "Round 183\n",
      "Round 184\n",
      "Round 185\n",
      "Round 186\n",
      "WAR!!!!!!!!!!!!!!!!!\n",
      "Round 187\n",
      "Round 188\n",
      "Round 189\n",
      "Round 190\n",
      "Round 191\n",
      "Round 192\n",
      "WAR!!!!!!!!!!!!!!!!!\n",
      "Round 193\n",
      "Round 194\n",
      "Round 195\n",
      "Round 196\n",
      "Round 197\n",
      "Round 198\n",
      "Round 199\n",
      "Round 200\n",
      "Round 201\n",
      "Round 202\n",
      "Round 203\n",
      "Round 204\n",
      "Round 205\n",
      "Round 206\n",
      "Round 207\n",
      "Round 208\n",
      "Round 209\n",
      "Round 210\n",
      "Round 211\n",
      "Round 212\n",
      "Round 213\n",
      "Round 214\n",
      "Round 215\n",
      "WAR!!!!!!!!!!!!!!!!!\n",
      "Round 216\n",
      "Round 217\n",
      "Round 218\n",
      "Round 219\n",
      "Round 220\n",
      "WAR!!!!!!!!!!!!!!!!!\n",
      "WAR!!!!!!!!!!!!!!!!!\n",
      "Round 221\n",
      "Round 222\n",
      "Round 223\n",
      "Round 224\n",
      "Round 225\n",
      "Round 226\n",
      "Round 227\n",
      "Round 228\n",
      "Round 229\n",
      "Round 230\n",
      "Round 231\n",
      "Round 232\n",
      "Round 233\n",
      "Round 234\n",
      "Round 235\n",
      "Round 236\n",
      "Round 237\n",
      "Round 238\n",
      "Round 239\n",
      "Round 240\n",
      "Round 241\n",
      "Round 242\n",
      "Round 243\n",
      "Round 244\n",
      "Round 245\n",
      "Round 246\n",
      "WAR!!!!!!!!!!!!!!!!!\n",
      "Round 247\n",
      "Round 248\n",
      "Round 249\n",
      "Round 250\n",
      "WAR!!!!!!!!!!!!!!!!!\n",
      "Round 251\n",
      "Round 252\n",
      "Round 253\n",
      "Round 254\n",
      "Round 255\n",
      "Round 256\n",
      "Round 257\n",
      "Round 258\n",
      "Round 259\n",
      "Round 260\n",
      "WAR!!!!!!!!!!!!!!!!!\n",
      "Round 261\n",
      "Round 262\n",
      "Round 263\n",
      "Round 264\n",
      "Round 265\n",
      "Round 266\n",
      "Round 267\n",
      "Round 268\n",
      "WAR!!!!!!!!!!!!!!!!!\n",
      "Round 269\n",
      "Round 270\n",
      "Round 271\n",
      "Round 272\n",
      "Round 273\n",
      "Round 274\n",
      "Round 275\n",
      "Round 276\n",
      "Round 277\n",
      "Round 278\n",
      "Round 279\n",
      "Round 280\n",
      "Round 281\n",
      "Round 282\n",
      "Round 283\n",
      "Round 284\n",
      "Round 285\n",
      "Round 286\n",
      "Round 287\n",
      "Round 288\n",
      "Round 289\n",
      "WAR!!!!!!!!!!!!!!!!!\n",
      "Round 290\n",
      "Round 291\n",
      "Round 292\n",
      "Round 293\n",
      "Round 294\n",
      "Round 295\n",
      "Round 296\n",
      "Round 297\n",
      "Round 298\n",
      "Round 299\n",
      "Round 300\n",
      "Round 301\n",
      "Round 302\n",
      "Round 303\n",
      "Round 304\n",
      "Round 305\n",
      "Round 306\n",
      "Round 307\n",
      "Round 308\n",
      "Round 309\n",
      "Round 310\n",
      "Round 311\n",
      "Round 312\n",
      "Round 313\n",
      "Round 314\n",
      "WAR!!!!!!!!!!!!!!!!!\n",
      "Round 315\n",
      "Round 316\n",
      "Round 317\n",
      "Round 318\n",
      "Round 319\n",
      "Round 320\n",
      "Round 321\n",
      "Round 322\n",
      "Round 323\n",
      "Round 324\n",
      "Round 325\n",
      "Round 326\n",
      "Round 327\n",
      "Round 328\n",
      "Round 329\n",
      "Round 330\n",
      "Round 331\n",
      "Round 332\n",
      "Round 333\n",
      "Round 334\n",
      "Round 335\n",
      "Round 336\n",
      "Round 337\n",
      "Round 338\n",
      "WAR!!!!!!!!!!!!!!!!!\n",
      "Round 339\n",
      "Round 340\n",
      "Round 341\n",
      "Round 342\n",
      "Round 343\n",
      "Round 344\n",
      "Round 345\n",
      "Round 346\n",
      "Round 347\n",
      "Round 348\n",
      "Round 349\n",
      "Round 350\n",
      "Round 351\n",
      "Round 352\n",
      "Round 353\n",
      "Round 354\n",
      "Round 355\n",
      "Round 356\n",
      "Round 357\n",
      "Round 358\n",
      "Round 359\n",
      "Round 360\n",
      "WAR!!!!!!!!!!!!!!!!!\n",
      "Round 361\n",
      "Round 362\n",
      "Round 363\n",
      "Round 364\n",
      "Round 365\n",
      "Round 366\n",
      "Round 367\n",
      "Round 368\n",
      "Round 369\n",
      "Round 370\n",
      "Round 371\n",
      "Round 372\n",
      "Round 373\n",
      "Round 374\n",
      "Round 375\n",
      "Round 376\n",
      "Round 377\n",
      "Round 378\n",
      "Round 379\n",
      "Round 380\n",
      "Round 381\n",
      "Round 382\n",
      "WAR!!!!!!!!!!!!!!!!!\n",
      "Round 383\n",
      "Round 384\n",
      "Round 385\n",
      "Round 386\n",
      "Round 387\n",
      "Round 388\n",
      "Round 389\n",
      "Round 390\n",
      "Round 391\n",
      "Round 392\n",
      "Round 393\n",
      "Round 394\n",
      "Round 395\n",
      "Round 396\n",
      "Round 397\n",
      "Round 398\n",
      "Round 399\n",
      "Round 400\n",
      "Round 401\n",
      "Round 402\n",
      "Round 403\n",
      "Round 404\n",
      "Round 405\n",
      "Round 406\n",
      "Round 407\n",
      "Round 408\n",
      "Round 409\n",
      "Round 410\n",
      "Round 411\n",
      "Round 412\n",
      "Round 413\n",
      "Round 414\n",
      "Round 415\n",
      "Round 416\n",
      "Round 417\n",
      "Round 418\n",
      "WAR!!!!!!!!!!!!!!!!!\n",
      "Round 419\n",
      "Round 420\n",
      "Round 421\n",
      "Round 422\n",
      "Round 423\n",
      "Round 424\n",
      "Round 425\n",
      "Round 426\n",
      "Round 427\n",
      "Round 428\n",
      "Round 429\n",
      "Round 430\n",
      "Round 431\n",
      "Round 432\n",
      "Round 433\n",
      "Round 434\n",
      "Round 435\n",
      "Round 436\n",
      "Round 437\n",
      "Round 438\n",
      "Round 439\n",
      "Round 440\n",
      "Round 441\n",
      "Round 442\n",
      "Round 443\n",
      "Round 444\n",
      "Round 445\n",
      "Round 446\n",
      "Round 447\n",
      "Round 448\n",
      "Round 449\n",
      "Round 450\n",
      "Round 451\n",
      "Round 452\n",
      "Round 453\n",
      "Round 454\n",
      "Round 455\n",
      "Round 456\n",
      "Round 457\n",
      "Round 458\n",
      "Round 459\n",
      "Round 460\n",
      "Round 461\n",
      "Round 462\n",
      "Round 463\n",
      "Round 464\n",
      "Round 465\n",
      "Round 466\n",
      "Round 467\n",
      "Round 468\n",
      "Round 469\n",
      "Round 470\n",
      "Round 471\n",
      "Round 472\n",
      "Round 473\n",
      "Round 474\n",
      "Round 475\n",
      "Round 476\n",
      "Round 477\n",
      "Round 478\n",
      "Round 479\n",
      "Round 480\n",
      "Round 481\n",
      "Round 482\n",
      "Round 483\n",
      "Round 484\n",
      "Round 485\n",
      "Round 486\n",
      "Round 487\n",
      "Round 488\n",
      "Round 489\n",
      "Round 490\n",
      "Round 491\n",
      "Round 492\n",
      "Round 493\n",
      "Round 494\n",
      "Round 495\n",
      "Round 496\n",
      "Round 497\n",
      "Round 498\n",
      "Round 499\n",
      "Round 500\n",
      "Round 501\n",
      "Round 502\n",
      "Round 503\n",
      "Round 504\n",
      "Round 505\n",
      "Round 506\n",
      "Round 507\n",
      "Round 508\n",
      "Round 509\n",
      "Round 510\n",
      "Round 511\n",
      "Round 512\n",
      "Round 513\n",
      "Round 514\n",
      "Round 515\n",
      "Round 516\n",
      "Round 517\n",
      "Round 518\n",
      "Round 519\n",
      "Round 520\n",
      "Round 521\n",
      "Round 522\n",
      "Round 523\n",
      "Round 524\n",
      "Round 525\n",
      "Round 526\n",
      "Round 527\n",
      "Round 528\n",
      "Round 529\n",
      "Round 530\n",
      "Round 531\n",
      "Round 532\n",
      "Round 533\n",
      "Round 534\n",
      "Round 535\n",
      "Round 536\n",
      "Round 537\n",
      "Round 538\n",
      "Round 539\n",
      "Round 540\n",
      "Round 541\n",
      "Round 542\n",
      "Round 543\n",
      "Round 544\n",
      "Round 545\n",
      "Round 546\n",
      "Round 547\n",
      "Round 548\n",
      "Round 549\n",
      "Round 550\n",
      "Round 551\n",
      "Round 552\n",
      "Round 553\n",
      "Round 554\n",
      "Round 555\n",
      "Round 556\n",
      "Round 557\n",
      "Round 558\n",
      "Round 559\n",
      "Round 560\n",
      "Round 561\n",
      "Round 562\n",
      "Round 563\n",
      "Round 564\n",
      "Round 565\n",
      "Round 566\n",
      "Round 567\n",
      "Round 568\n",
      "Round 569\n",
      "Round 570\n",
      "Round 571\n",
      "Round 572\n",
      "Round 573\n",
      "Round 574\n",
      "Round 575\n",
      "Round 576\n",
      "Round 577\n",
      "Round 578\n",
      "Round 579\n",
      "Round 580\n",
      "Round 581\n",
      "Round 582\n",
      "Round 583\n",
      "Round 584\n",
      "Round 585\n",
      "Round 586\n",
      "Round 587\n",
      "Round 588\n",
      "Round 589\n",
      "Round 590\n",
      "Round 591\n",
      "Round 592\n",
      "Round 593\n",
      "Round 594\n",
      "Round 595\n",
      "Round 596\n",
      "Round 597\n",
      "WAR!!!!!!!!!!!!!!!!!\n",
      "Round 598\n",
      "Round 599\n",
      "Round 600\n",
      "Round 601\n",
      "Round 602\n",
      "Round 603\n",
      "Round 604\n",
      "Round 605\n",
      "Round 606\n",
      "Round 607\n",
      "Round 608\n",
      "Round 609\n",
      "Round 610\n",
      "Round 611\n",
      "Round 612\n",
      "Round 613\n",
      "Round 614\n",
      "Round 615\n",
      "Round 616\n",
      "Round 617\n",
      "Round 618\n",
      "Round 619\n",
      "Round 620\n",
      "Round 621\n",
      "Round 622\n",
      "Round 623\n",
      "Round 624\n",
      "Round 625\n",
      "Round 626\n",
      "Round 627\n",
      "WAR!!!!!!!!!!!!!!!!!\n",
      "Round 628\n",
      "Round 629\n",
      "Round 630\n",
      "Round 631\n",
      "Round 632\n",
      "Round 633\n",
      "Round 634\n",
      "Round 635\n",
      "Round 636\n",
      "Round 637\n",
      "Round 638\n",
      "Round 639\n",
      "Round 640\n",
      "Round 641\n",
      "Round 642\n",
      "Round 643\n",
      "Round 644\n",
      "Round 645\n",
      "Round 646\n",
      "Round 647\n",
      "Round 648\n",
      "Round 649\n",
      "Round 650\n",
      "Round 651\n",
      "Round 652\n",
      "Round 653\n",
      "Round 654\n",
      "Round 655\n",
      "Round 656\n",
      "Round 657\n",
      "Round 658\n",
      "Round 659\n",
      "Round 660\n",
      "Round 661\n",
      "Round 662\n",
      "Round 663\n",
      "Round 664\n",
      "Round 665\n",
      "Round 666\n",
      "Round 667\n",
      "Round 668\n",
      "Round 669\n",
      "Round 670\n",
      "Round 671\n",
      "Round 672\n",
      "Round 673\n",
      "Round 674\n",
      "Round 675\n",
      "Round 676\n",
      "Round 677\n",
      "Round 678\n",
      "Round 679\n",
      "Round 680\n",
      "Round 681\n",
      "Round 682\n",
      "Round 683\n",
      "Round 684\n",
      "Round 685\n",
      "Round 686\n",
      "Round 687\n",
      "Round 688\n",
      "WAR!!!!!!!!!!!!!!!!!\n",
      "Player two unable to play.\n",
      "Player one wins!\n"
     ]
    }
   ],
   "source": [
    "round_num = 0\n",
    "\n",
    "while game_on:\n",
    "    \n",
    "    round_num += 1\n",
    "    print(f\"Round {round_num}\")\n",
    "    \n",
    "    # Check if a player is out of cards \n",
    "    if len(player_one.all_cards) == 0:\n",
    "        print('Player one is out of cards.')\n",
    "        print('Player two wins.')\n",
    "        game_on = False\n",
    "        break\n",
    "        \n",
    "    if len(player_two.all_cards) == 0:\n",
    "        print('Player two is out of cards.')\n",
    "        print('Player one wins.')\n",
    "        game_on = False\n",
    "        break\n",
    "    \n",
    "    # New round resets current cards\n",
    "    \n",
    "    player_one_cards = []\n",
    "    player_one_cards.append(player_one.remove_one())\n",
    "    \n",
    "    player_two_cards = []\n",
    "    player_two_cards.append(player_two.remove_one())\n",
    "    \n",
    "    at_war = True\n",
    "\n",
    "    while at_war:\n",
    "        \n",
    "        if player_one_cards[-1].value > player_two_cards[-1].value:\n",
    "            player_one.add_cards(player_one_cards)\n",
    "            player_one.add_cards(player_two_cards)\n",
    "            \n",
    "            at_war = False\n",
    "        \n",
    "        elif player_one_cards[-1].value < player_two_cards[-1].value:\n",
    "\n",
    "            player_two.add_cards(player_one_cards)\n",
    "            player_two.add_cards(player_two_cards)\n",
    "            \n",
    "            at_war = False\n",
    "\n",
    "        else:\n",
    "            \n",
    "            print('WAR!!!!!!!!!!!!!!!!!')\n",
    "            # Check to see if players have enough cards left to play\n",
    "            \n",
    "            if len(player_one.all_cards) < 5:\n",
    "                print('Player one unable to play.')\n",
    "                print('Player two wins!')\n",
    "                game_on = False\n",
    "                break\n",
    "\n",
    "            elif len(player_two.all_cards) < 5:\n",
    "                print('Player two unable to play.')\n",
    "                print('Player one wins!')\n",
    "                game_on = False\n",
    "                break\n",
    "                \n",
    "            # They have enough cards so the war can continue by adding cards to their list\n",
    "            \n",
    "            else:\n",
    "                for num in range(5):\n",
    "                    player_one_cards.append(player_one.remove_one())\n",
    "                    player_two_cards.append(player_two.remove_one())\n"
   ]
  },
  {
   "cell_type": "code",
   "execution_count": null,
   "id": "058baae6-06a5-4837-9e15-f46aae0dbc8a",
   "metadata": {},
   "outputs": [],
   "source": []
  },
  {
   "cell_type": "code",
   "execution_count": null,
   "id": "463b5ae6-aa3d-4de2-92ca-7fae895f1c0d",
   "metadata": {},
   "outputs": [],
   "source": []
  },
  {
   "cell_type": "code",
   "execution_count": null,
   "id": "ed8f1df6-25dc-4e36-ab31-bc9a971bd476",
   "metadata": {},
   "outputs": [],
   "source": []
  },
  {
   "cell_type": "code",
   "execution_count": null,
   "id": "4c0d6a2c-13c8-4448-a949-2e32a64f4237",
   "metadata": {},
   "outputs": [],
   "source": []
  },
  {
   "cell_type": "code",
   "execution_count": null,
   "id": "78ade616-b7ff-4511-8c05-1e787e3b6e45",
   "metadata": {},
   "outputs": [],
   "source": []
  },
  {
   "cell_type": "code",
   "execution_count": 38,
   "id": "81a68f6d-a9cc-42be-a321-b6b838478dc5",
   "metadata": {},
   "outputs": [],
   "source": [
    "import random\n",
    "\n",
    "suits = ('Hearts','Diamonds','Spades','Clubs')\n",
    "\n",
    "ranks = ('Two','Three','Four','Five','Six','Seven','Eight','Nine','Ten','Jack','Queen','King','Ace')\n",
    "\n",
    "values = {'Two':2, 'Three':3, 'Four':4, 'Five':5, 'Six':6, 'Seven':7, 'Eight':8,\n",
    "         'Nine':9, 'Ten':10, 'Jack':10, 'Queen':10, 'King':10, 'Ace':11}\n",
    "\n",
    "playing = True"
   ]
  },
  {
   "cell_type": "code",
   "execution_count": 39,
   "id": "a9d902a4-48ff-4af0-ab1d-a9c8642eae6a",
   "metadata": {},
   "outputs": [],
   "source": [
    "class Card():\n",
    "\n",
    "    def __init__(self,suit,rank):\n",
    "        self.suit = suit\n",
    "        self.rank = rank\n",
    "\n",
    "    def __str__(self):\n",
    "        return self.rank + ' of ' + self.suit"
   ]
  },
  {
   "cell_type": "code",
   "execution_count": 40,
   "id": "315c32fc-ad15-4e91-ad16-da2451ac9ab3",
   "metadata": {},
   "outputs": [],
   "source": [
    "class Deck():\n",
    "\n",
    "    def __init__(self):\n",
    "        self.deck = []\n",
    "\n",
    "        for suit in suits:\n",
    "            for rank in ranks:\n",
    "                self.deck.append(Card(suit,rank))\n",
    "\n",
    "    def __str__(self):\n",
    "        deck_comp = ''\n",
    "        for card in self.deck:\n",
    "            deck_comp += '\\n' + card.__str__()\n",
    "        return 'The deck has: '+ deck_comp\n",
    "\n",
    "    def shuffle(self):\n",
    "        random.shuffle(self.deck)\n",
    "\n",
    "    def deal(self):\n",
    "        single_card = self.deck.pop()\n",
    "        return single_card\n"
   ]
  },
  {
   "cell_type": "code",
   "execution_count": 41,
   "id": "07c7cc35-4e5c-467c-83a7-9e916ae9a32c",
   "metadata": {},
   "outputs": [],
   "source": [
    "test_deck = Deck()"
   ]
  },
  {
   "cell_type": "code",
   "execution_count": 42,
   "id": "f53b0e0a-5fd4-4fa6-90ba-53d0f955e948",
   "metadata": {},
   "outputs": [
    {
     "name": "stdout",
     "output_type": "stream",
     "text": [
      "The deck has: \n",
      "Two of Hearts\n",
      "Three of Hearts\n",
      "Four of Hearts\n",
      "Five of Hearts\n",
      "Six of Hearts\n",
      "Seven of Hearts\n",
      "Eight of Hearts\n",
      "Nine of Hearts\n",
      "Ten of Hearts\n",
      "Jack of Hearts\n",
      "Queen of Hearts\n",
      "King of Hearts\n",
      "Ace of Hearts\n",
      "Two of Diamonds\n",
      "Three of Diamonds\n",
      "Four of Diamonds\n",
      "Five of Diamonds\n",
      "Six of Diamonds\n",
      "Seven of Diamonds\n",
      "Eight of Diamonds\n",
      "Nine of Diamonds\n",
      "Ten of Diamonds\n",
      "Jack of Diamonds\n",
      "Queen of Diamonds\n",
      "King of Diamonds\n",
      "Ace of Diamonds\n",
      "Two of Spades\n",
      "Three of Spades\n",
      "Four of Spades\n",
      "Five of Spades\n",
      "Six of Spades\n",
      "Seven of Spades\n",
      "Eight of Spades\n",
      "Nine of Spades\n",
      "Ten of Spades\n",
      "Jack of Spades\n",
      "Queen of Spades\n",
      "King of Spades\n",
      "Ace of Spades\n",
      "Two of Clubs\n",
      "Three of Clubs\n",
      "Four of Clubs\n",
      "Five of Clubs\n",
      "Six of Clubs\n",
      "Seven of Clubs\n",
      "Eight of Clubs\n",
      "Nine of Clubs\n",
      "Ten of Clubs\n",
      "Jack of Clubs\n",
      "Queen of Clubs\n",
      "King of Clubs\n",
      "Ace of Clubs\n"
     ]
    }
   ],
   "source": [
    "print(test_deck)"
   ]
  },
  {
   "cell_type": "code",
   "execution_count": 43,
   "id": "16d28b38-2bc4-470e-8e95-bd3b9df74052",
   "metadata": {},
   "outputs": [
    {
     "name": "stdout",
     "output_type": "stream",
     "text": [
      "The deck has: \n",
      "Two of Spades\n",
      "Jack of Hearts\n",
      "Two of Diamonds\n",
      "Queen of Hearts\n",
      "Nine of Clubs\n",
      "Eight of Spades\n",
      "Three of Diamonds\n",
      "King of Clubs\n",
      "Seven of Spades\n",
      "Six of Spades\n",
      "Five of Clubs\n",
      "Queen of Spades\n",
      "Nine of Diamonds\n",
      "Eight of Hearts\n",
      "Queen of Clubs\n",
      "Eight of Clubs\n",
      "Five of Diamonds\n",
      "Ten of Hearts\n",
      "Ace of Clubs\n",
      "Seven of Diamonds\n",
      "Seven of Clubs\n",
      "Six of Hearts\n",
      "Two of Hearts\n",
      "Three of Clubs\n",
      "Jack of Spades\n",
      "Ace of Diamonds\n",
      "Ace of Hearts\n",
      "Jack of Diamonds\n",
      "Four of Hearts\n",
      "Five of Hearts\n",
      "Jack of Clubs\n",
      "Four of Diamonds\n",
      "Ten of Clubs\n",
      "Five of Spades\n",
      "Three of Spades\n",
      "Nine of Hearts\n",
      "King of Hearts\n",
      "King of Spades\n",
      "Four of Clubs\n",
      "Two of Clubs\n",
      "Six of Clubs\n",
      "Ten of Diamonds\n",
      "Ace of Spades\n",
      "Ten of Spades\n",
      "Queen of Diamonds\n",
      "Three of Hearts\n",
      "Eight of Diamonds\n",
      "King of Diamonds\n",
      "Nine of Spades\n",
      "Four of Spades\n",
      "Six of Diamonds\n",
      "Seven of Hearts\n"
     ]
    }
   ],
   "source": [
    "test_deck.shuffle()\n",
    "print(test_deck)"
   ]
  },
  {
   "cell_type": "code",
   "execution_count": 44,
   "id": "d0bbd4f1-1532-44d0-ab53-21e050cce5d0",
   "metadata": {},
   "outputs": [],
   "source": [
    "class Hand():\n",
    "\n",
    "    def __init__(self):\n",
    "        self.cards = []\n",
    "        self.value = 0\n",
    "        self.aces = 0\n",
    "\n",
    "    def add_card(self,card):\n",
    "        self.cards.append(card)\n",
    "        self.value += values[card.rank]\n",
    "\n",
    "        if card.rank == 'Ace':\n",
    "            self.aces += 1\n",
    "\n",
    "    def adjust_for_ace(self):\n",
    "        \n",
    "        # if total value is greater than 21 and I still have an ace, then change my ace to be a 1 instead of an 11\n",
    "        while self.value > 21 and self.aces:\n",
    "            self.value =- 10\n",
    "            self.aces =- 1"
   ]
  },
  {
   "cell_type": "code",
   "execution_count": 45,
   "id": "bf03ba30-230b-40d8-8acf-9d4d823207ff",
   "metadata": {},
   "outputs": [
    {
     "name": "stdout",
     "output_type": "stream",
     "text": [
      "Seven of Hearts\n",
      "7\n"
     ]
    }
   ],
   "source": [
    "test_player = Hand()\n",
    "\n",
    "pulled_card = test_deck.deal()\n",
    "print(pulled_card)\n",
    "\n",
    "test_player.add_card(pulled_card)\n",
    "print(test_player.value)"
   ]
  },
  {
   "cell_type": "code",
   "execution_count": 46,
   "id": "c3577a52-7d1a-49dd-b4ff-54c8f7f23814",
   "metadata": {},
   "outputs": [],
   "source": [
    "test_player.add_card(test_deck.deal())"
   ]
  },
  {
   "cell_type": "code",
   "execution_count": 47,
   "id": "a441e3d0-3a48-42fa-aae4-8c1ada929988",
   "metadata": {},
   "outputs": [
    {
     "data": {
      "text/plain": [
       "13"
      ]
     },
     "execution_count": 47,
     "metadata": {},
     "output_type": "execute_result"
    }
   ],
   "source": [
    "test_player.value"
   ]
  },
  {
   "cell_type": "code",
   "execution_count": 48,
   "id": "83405490-c875-425d-9080-4716b8943f44",
   "metadata": {},
   "outputs": [],
   "source": [
    "class Chips():\n",
    "\n",
    "    def __init__(self,total=100):\n",
    "        self.total = total\n",
    "        self.bet = 0\n",
    "\n",
    "    def win_bet(self):\n",
    "        self.total += self.bet\n",
    "\n",
    "    def lose_bet(self):\n",
    "        self.total -= self.bet"
   ]
  },
  {
   "cell_type": "code",
   "execution_count": 49,
   "id": "49d0209a-c987-4803-92c7-08d5118a0860",
   "metadata": {},
   "outputs": [],
   "source": [
    "def take_bet(chips):\n",
    "    while True:\n",
    "        try:\n",
    "            chips.bet = int(input('How many chips would you like to bet? : '))\n",
    "        except:\n",
    "            print('Sorry, please provide an integer.')\n",
    "        else:\n",
    "            if chips.bet > chips.total:\n",
    "                print('Sorry, you do not have enough chips. You have {}'.format(chips.total))\n",
    "            else:\n",
    "                break"
   ]
  },
  {
   "cell_type": "code",
   "execution_count": 50,
   "id": "9ebf5e1d-bf52-45cb-be81-88750b79855a",
   "metadata": {},
   "outputs": [],
   "source": [
    "def hit(deck,hand):\n",
    "    single_card = deck.deal()\n",
    "    hand.add_card(single_card)\n",
    "    hand.adjust_for_ace()"
   ]
  },
  {
   "cell_type": "code",
   "execution_count": 51,
   "id": "469c6fbd-e5c3-4f43-95dd-252cd26b10b8",
   "metadata": {},
   "outputs": [],
   "source": [
    "def hit_or_stand(deck,hand):\n",
    "    global playing\n",
    "\n",
    "    while True:\n",
    "        x = input('Hit or Stand? Enter h or s: ')\n",
    "\n",
    "        if x[0].lower() == 'h':\n",
    "            hit(deck,hand)\n",
    "\n",
    "        elif x[0].lower() == 's':\n",
    "            print(\"Player stands, Dealer's turn.\")\n",
    "            playing = False\n",
    "\n",
    "        else:\n",
    "            print('Sorry, I did not understand you. Please try again.')\n",
    "            continue\n",
    "        break"
   ]
  },
  {
   "cell_type": "code",
   "execution_count": 52,
   "id": "eb86fa0b-d033-4365-852f-b9a781441680",
   "metadata": {},
   "outputs": [],
   "source": [
    "def show_some(player,dealer):\n",
    "    print(\" \\n Dealer's hand: \")\n",
    "    print('First card hidden.')\n",
    "    print(dealer.cards[1])\n",
    "\n",
    "    print(\" \\n Player's hand: \")\n",
    "    for card in player.cards:\n",
    "        print(card)\n",
    "\n",
    "def show_all(player,dealer):\n",
    "    print(\" \\n Dealer's hand: \")\n",
    "    for card in dealer.cards:\n",
    "        print(card)\n",
    "\n",
    "    # print(\" \\n Dealer's hand: \",*dealer.cards,sep='\\n')\n",
    "\n",
    "    print(f\"Value of dealer's hand is: {dealer.value}\")\n",
    "\n",
    "    print(\" \\n Player's hand: \")\n",
    "    for card in player.cards:\n",
    "        print(card)\n",
    "\n",
    "    print(f\"Value of player's hand is: {player.value}\")\n",
    "    "
   ]
  },
  {
   "cell_type": "code",
   "execution_count": 53,
   "id": "ea922c5a-d7df-4feb-b230-80db48147b0e",
   "metadata": {},
   "outputs": [],
   "source": [
    "def player_busts(player,dealer,chips):\n",
    "    print('Bust player!')\n",
    "    chips.lose_bet()\n",
    "\n",
    "def player_wins(player,dealer,chips):\n",
    "    print('Player wins!')\n",
    "    chips.win_bet()\n",
    "\n",
    "def dealer_busts(player,dealer,chips):\n",
    "    print(\"Player wins! Dealer busted!\")\n",
    "    chips.win_bet()\n",
    "\n",
    "def dealer_wins(player,dealer,chips):\n",
    "    print('Dealer wins!')\n",
    "    chips.lose_bet()\n",
    "\n",
    "def push(player,dealer):\n",
    "    print('Dealer and player tie! PUSH')"
   ]
  },
  {
   "cell_type": "code",
   "execution_count": 54,
   "id": "0966b205-1dab-4e19-a204-7399882f74e5",
   "metadata": {},
   "outputs": [
    {
     "name": "stdout",
     "output_type": "stream",
     "text": [
      "Welcome to Blackjack\n"
     ]
    },
    {
     "name": "stdin",
     "output_type": "stream",
     "text": [
      "How many chips would you like to bet? :  300\n"
     ]
    },
    {
     "name": "stdout",
     "output_type": "stream",
     "text": [
      "Sorry, you do not have enough chips. You have 100\n"
     ]
    },
    {
     "name": "stdin",
     "output_type": "stream",
     "text": [
      "How many chips would you like to bet? :  50\n"
     ]
    },
    {
     "name": "stdout",
     "output_type": "stream",
     "text": [
      " \n",
      " Dealer's hand: \n",
      "First card hidden.\n",
      "Six of Spades\n",
      " \n",
      " Player's hand: \n",
      "Three of Hearts\n",
      "Queen of Spades\n"
     ]
    },
    {
     "name": "stdin",
     "output_type": "stream",
     "text": [
      "Hit or Stand? Enter h or s:  s\n"
     ]
    },
    {
     "name": "stdout",
     "output_type": "stream",
     "text": [
      "Player stands, Dealer's turn.\n",
      " \n",
      " Dealer's hand: \n",
      "First card hidden.\n",
      "Six of Spades\n",
      " \n",
      " Player's hand: \n",
      "Three of Hearts\n",
      "Queen of Spades\n",
      " \n",
      " Dealer's hand: \n",
      "Ace of Hearts\n",
      "Six of Spades\n",
      "Value of dealer's hand is: 17\n",
      " \n",
      " Player's hand: \n",
      "Three of Hearts\n",
      "Queen of Spades\n",
      "Value of player's hand is: 13\n",
      "Dealer wins!\n",
      "\n",
      " Player total chips are at: 50\n"
     ]
    },
    {
     "name": "stdin",
     "output_type": "stream",
     "text": [
      "Would you like to play another hand? y or n y\n"
     ]
    },
    {
     "name": "stdout",
     "output_type": "stream",
     "text": [
      "Welcome to Blackjack\n"
     ]
    },
    {
     "name": "stdin",
     "output_type": "stream",
     "text": [
      "How many chips would you like to bet? :  100\n"
     ]
    },
    {
     "name": "stdout",
     "output_type": "stream",
     "text": [
      " \n",
      " Dealer's hand: \n",
      "First card hidden.\n",
      "Four of Clubs\n",
      " \n",
      " Player's hand: \n",
      "Jack of Hearts\n",
      "Four of Diamonds\n"
     ]
    },
    {
     "name": "stdin",
     "output_type": "stream",
     "text": [
      "Hit or Stand? Enter h or s:  s\n"
     ]
    },
    {
     "name": "stdout",
     "output_type": "stream",
     "text": [
      "Player stands, Dealer's turn.\n",
      " \n",
      " Dealer's hand: \n",
      "First card hidden.\n",
      "Four of Clubs\n",
      " \n",
      " Player's hand: \n",
      "Jack of Hearts\n",
      "Four of Diamonds\n",
      " \n",
      " Dealer's hand: \n",
      "Four of Spades\n",
      "Four of Clubs\n",
      "Three of Hearts\n",
      "Ace of Hearts\n",
      "Seven of Hearts\n",
      "Queen of Hearts\n",
      "Queen of Clubs\n",
      "Value of dealer's hand is: 17\n",
      " \n",
      " Player's hand: \n",
      "Jack of Hearts\n",
      "Four of Diamonds\n",
      "Value of player's hand is: 14\n",
      "Dealer wins!\n",
      "\n",
      " Player total chips are at: 0\n"
     ]
    },
    {
     "name": "stdin",
     "output_type": "stream",
     "text": [
      "Would you like to play another hand? y or n y\n"
     ]
    },
    {
     "name": "stdout",
     "output_type": "stream",
     "text": [
      "Welcome to Blackjack\n"
     ]
    },
    {
     "name": "stdin",
     "output_type": "stream",
     "text": [
      "How many chips would you like to bet? :  20\n"
     ]
    },
    {
     "name": "stdout",
     "output_type": "stream",
     "text": [
      " \n",
      " Dealer's hand: \n",
      "First card hidden.\n",
      "Ten of Diamonds\n",
      " \n",
      " Player's hand: \n",
      "Jack of Hearts\n",
      "Seven of Hearts\n"
     ]
    },
    {
     "name": "stdin",
     "output_type": "stream",
     "text": [
      "Hit or Stand? Enter h or s:  h\n"
     ]
    },
    {
     "name": "stdout",
     "output_type": "stream",
     "text": [
      " \n",
      " Dealer's hand: \n",
      "First card hidden.\n",
      "Ten of Diamonds\n",
      " \n",
      " Player's hand: \n",
      "Jack of Hearts\n",
      "Seven of Hearts\n",
      "Two of Hearts\n"
     ]
    },
    {
     "name": "stdin",
     "output_type": "stream",
     "text": [
      "Hit or Stand? Enter h or s:  s\n"
     ]
    },
    {
     "name": "stdout",
     "output_type": "stream",
     "text": [
      "Player stands, Dealer's turn.\n",
      " \n",
      " Dealer's hand: \n",
      "First card hidden.\n",
      "Ten of Diamonds\n",
      " \n",
      " Player's hand: \n",
      "Jack of Hearts\n",
      "Seven of Hearts\n",
      "Two of Hearts\n",
      " \n",
      " Dealer's hand: \n",
      "Nine of Clubs\n",
      "Ten of Diamonds\n",
      "Value of dealer's hand is: 19\n",
      " \n",
      " Player's hand: \n",
      "Jack of Hearts\n",
      "Seven of Hearts\n",
      "Two of Hearts\n",
      "Value of player's hand is: 19\n",
      "Dealer and player tie! PUSH\n",
      "\n",
      " Player total chips are at: 100\n"
     ]
    },
    {
     "name": "stdin",
     "output_type": "stream",
     "text": [
      "Would you like to play another hand? y or n n\n"
     ]
    },
    {
     "name": "stdout",
     "output_type": "stream",
     "text": [
      "Thank you for playing.\n"
     ]
    }
   ],
   "source": [
    "while True:\n",
    "\n",
    "    print('Welcome to Blackjack')\n",
    "\n",
    "    deck = Deck()\n",
    "    deck.shuffle()\n",
    "\n",
    "    player_hand = Hand()\n",
    "    player_hand.add_card(deck.deal())\n",
    "    player_hand.add_card(deck.deal())\n",
    "\n",
    "    dealer_hand = Hand()\n",
    "    dealer_hand.add_card(deck.deal())\n",
    "    dealer_hand.add_card(deck.deal())\n",
    "\n",
    "    player_chips = Chips()\n",
    "\n",
    "    take_bet(player_chips)\n",
    "\n",
    "    show_some(player_hand,dealer_hand)\n",
    "\n",
    "    while playing:\n",
    "\n",
    "        hit_or_stand(deck,player_hand)\n",
    "\n",
    "        show_some(player_hand,dealer_hand)\n",
    "\n",
    "        if player_hand.value > 21:\n",
    "            player_busts(player_hand,dealer_hand,player_chips)\n",
    "\n",
    "            break\n",
    "\n",
    "    if player_hand.value <= 21:\n",
    "\n",
    "        while dealer_hand.value < player_hand.value:\n",
    "            hit(deck,dealer_hand)\n",
    "\n",
    "        show_all(player_hand,dealer_hand)\n",
    "\n",
    "        if dealer_hand.value > 21:\n",
    "            dealer_busts(player_hand,dealer_hand,player_chips)\n",
    "        elif dealer_hand.value > player_hand.value:\n",
    "            dealer_wins(player_hand,dealer_hand,player_chips)\n",
    "        elif dealer_hand.value < player_hand.value:\n",
    "            player_wins(player_hand,dealer_hand,player_chips)\n",
    "        else:\n",
    "            push(player_hand,dealer_hand)\n",
    "\n",
    "    print('\\n Player total chips are at: {}'.format(player_chips.total))\n",
    "\n",
    "    new_game = input('Would you like to play another hand? y or n')\n",
    "\n",
    "    if new_game[0].lower() == 'y':\n",
    "        playing = True\n",
    "        continue\n",
    "    else:\n",
    "        print('Thank you for playing.')\n",
    "        break\n"
   ]
  },
  {
   "cell_type": "code",
   "execution_count": null,
   "id": "8224166c-ab3e-43f8-8ce6-f9bcfa484f83",
   "metadata": {},
   "outputs": [],
   "source": []
  }
 ],
 "metadata": {
  "kernelspec": {
   "display_name": "Python [conda env:base] *",
   "language": "python",
   "name": "conda-base-py"
  },
  "language_info": {
   "codemirror_mode": {
    "name": "ipython",
    "version": 3
   },
   "file_extension": ".py",
   "mimetype": "text/x-python",
   "name": "python",
   "nbconvert_exporter": "python",
   "pygments_lexer": "ipython3",
   "version": "3.12.7"
  }
 },
 "nbformat": 4,
 "nbformat_minor": 5
}
