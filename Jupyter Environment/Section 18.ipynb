{
 "cells": [
  {
   "cell_type": "code",
   "execution_count": 1,
   "id": "633949d7-56d1-4157-9c4f-6aa9b5755ec8",
   "metadata": {},
   "outputs": [],
   "source": [
    "import smtplib"
   ]
  },
  {
   "cell_type": "code",
   "execution_count": 2,
   "id": "3f5a0c5e-9604-4026-a0ca-4abce8d11476",
   "metadata": {},
   "outputs": [],
   "source": [
    "smtp_object = smtplib.SMTP('smtp.gmail.com')"
   ]
  },
  {
   "cell_type": "code",
   "execution_count": 3,
   "id": "771218ec-fe71-4577-9575-d589aacb07ce",
   "metadata": {},
   "outputs": [
    {
     "data": {
      "text/plain": [
       "(250,\n",
       " b'smtp.gmail.com at your service, [160.119.233.199]\\nSIZE 35882577\\n8BITMIME\\nSTARTTLS\\nENHANCEDSTATUSCODES\\nPIPELINING\\nCHUNKING\\nSMTPUTF8')"
      ]
     },
     "execution_count": 3,
     "metadata": {},
     "output_type": "execute_result"
    }
   ],
   "source": [
    "smtp_object.ehlo()"
   ]
  },
  {
   "cell_type": "code",
   "execution_count": 4,
   "id": "08c6d9e7-527e-4c69-9928-bfd9183117b2",
   "metadata": {},
   "outputs": [
    {
     "data": {
      "text/plain": [
       "(220, b'2.0.0 Ready to start TLS')"
      ]
     },
     "execution_count": 4,
     "metadata": {},
     "output_type": "execute_result"
    }
   ],
   "source": [
    "smtp_object.starttls()"
   ]
  },
  {
   "cell_type": "code",
   "execution_count": 5,
   "id": "662fb72b-ec9f-427c-b61d-8e1bf1b8acd0",
   "metadata": {},
   "outputs": [],
   "source": [
    "import getpass"
   ]
  },
  {
   "cell_type": "code",
   "execution_count": 20,
   "id": "ab3aeae9-23c5-4b68-b1b2-155e59635bda",
   "metadata": {},
   "outputs": [
    {
     "name": "stdin",
     "output_type": "stream",
     "text": [
      "What is your password:  ········\n"
     ]
    }
   ],
   "source": [
    "password = getpass.getpass('What is your password: ')"
   ]
  },
  {
   "cell_type": "code",
   "execution_count": 7,
   "id": "8616615b-0822-49a7-b0c4-15d0142c684b",
   "metadata": {},
   "outputs": [],
   "source": [
    "# set up two-step verification"
   ]
  },
  {
   "cell_type": "code",
   "execution_count": 8,
   "id": "2e184a1b-c8d2-4c41-aed6-50c7df478a03",
   "metadata": {},
   "outputs": [],
   "source": [
    "# set up app password"
   ]
  },
  {
   "cell_type": "code",
   "execution_count": 9,
   "id": "caed9cc8-e412-4d99-aa51-4b3e86545d51",
   "metadata": {},
   "outputs": [],
   "source": [
    "# email = getpass.getpass('Email: ')\n",
    "# password = getpass.getpass('Password: ')\n",
    "# smtp_object.login(email,password)"
   ]
  },
  {
   "cell_type": "code",
   "execution_count": 24,
   "id": "ce0fa517-e8fb-4801-b5b0-b7141e50b27a",
   "metadata": {},
   "outputs": [],
   "source": [
    "# from_address = email\n",
    "# to_address = email\n",
    "# subject = input('Enter the subject line: ')\n",
    "# message = input('Enter the body message: ')\n",
    "# msg = 'Subject: '+ subject + '\\n' + message\n",
    "\n",
    "# smtp_object.sendmail(from_address,to_address,msg)"
   ]
  },
  {
   "cell_type": "code",
   "execution_count": 26,
   "id": "5edf6974-6a3f-481e-9493-f5cf6823bf1c",
   "metadata": {},
   "outputs": [],
   "source": [
    "# smtp_object.quit()"
   ]
  },
  {
   "cell_type": "code",
   "execution_count": null,
   "id": "1bb716e4-98a3-4c65-a545-1268c2a93a20",
   "metadata": {},
   "outputs": [],
   "source": []
  },
  {
   "cell_type": "code",
   "execution_count": null,
   "id": "b0a7dc95-dd1d-4d81-b069-0af5bbc6e2b8",
   "metadata": {},
   "outputs": [],
   "source": []
  },
  {
   "cell_type": "code",
   "execution_count": 30,
   "id": "e85e1357-3496-4b1e-923d-0776e954464f",
   "metadata": {},
   "outputs": [],
   "source": [
    "import imaplib"
   ]
  },
  {
   "cell_type": "code",
   "execution_count": 32,
   "id": "e3389c8f-c106-4c35-bcb0-efc90b595219",
   "metadata": {},
   "outputs": [],
   "source": [
    "M = imaplib.IMAP4_SSL('imap.gmail.com')"
   ]
  },
  {
   "cell_type": "code",
   "execution_count": 34,
   "id": "0fd14ad2-78eb-4798-8674-b84a20262a6c",
   "metadata": {},
   "outputs": [],
   "source": [
    "import getpass"
   ]
  },
  {
   "cell_type": "code",
   "execution_count": 36,
   "id": "5b45bd36-41eb-4d3b-8e16-9d461445befe",
   "metadata": {},
   "outputs": [
    {
     "name": "stdin",
     "output_type": "stream",
     "text": [
      "Email:  ········\n",
      "Password ········\n"
     ]
    }
   ],
   "source": [
    "email = getpass.getpass('Email: ')\n",
    "password = getpass.getpass('Password')"
   ]
  },
  {
   "cell_type": "code",
   "execution_count": 38,
   "id": "8ac56419-c2d5-4890-b7bb-a5831917da07",
   "metadata": {},
   "outputs": [],
   "source": [
    "# M.login(email,password)"
   ]
  },
  {
   "cell_type": "code",
   "execution_count": 40,
   "id": "7f0576e4-8672-4328-9784-50e5a0edcf6b",
   "metadata": {},
   "outputs": [],
   "source": [
    "# M.list()"
   ]
  },
  {
   "cell_type": "code",
   "execution_count": 42,
   "id": "08cb920a-c7b3-40b2-b646-559264cc1f5e",
   "metadata": {},
   "outputs": [],
   "source": [
    "# M.select('inbox')"
   ]
  },
  {
   "cell_type": "code",
   "execution_count": 44,
   "id": "bc38848e-d014-4842-a01e-1d1b37d8505c",
   "metadata": {},
   "outputs": [],
   "source": [
    "# typ, data = M.search(None,'BEFORE O1-Dec-2024')"
   ]
  },
  {
   "cell_type": "code",
   "execution_count": 46,
   "id": "5acad7d1-042f-4549-85f6-97c0fb81a7a0",
   "metadata": {},
   "outputs": [],
   "source": [
    "# typ, data = M.search(None, 'FROM user@example.com')"
   ]
  },
  {
   "cell_type": "code",
   "execution_count": 48,
   "id": "093d8f5d-cc17-4177-9edc-0153556d6980",
   "metadata": {},
   "outputs": [],
   "source": [
    "# typ, data = M.search(None, 'FROM example')"
   ]
  },
  {
   "cell_type": "code",
   "execution_count": 50,
   "id": "aeb383a9-85da-41d6-8c14-5b6cbf5e02c6",
   "metadata": {},
   "outputs": [],
   "source": [
    "# typ, data = M.search(None, 'SUBJECT \"NEW TEST PYTHON\"')"
   ]
  },
  {
   "cell_type": "code",
   "execution_count": 52,
   "id": "98a6ca69-fe83-4ff0-aaf8-3bc80c3f119e",
   "metadata": {},
   "outputs": [],
   "source": [
    "# typ"
   ]
  },
  {
   "cell_type": "code",
   "execution_count": 54,
   "id": "4ba5661f-e844-48b0-8dd4-5e63dd15dd4e",
   "metadata": {},
   "outputs": [],
   "source": [
    "# data"
   ]
  },
  {
   "cell_type": "code",
   "execution_count": 56,
   "id": "ee4a26d2-d233-40b5-824c-a99c042ae420",
   "metadata": {},
   "outputs": [],
   "source": [
    "# email_id = data[0]"
   ]
  },
  {
   "cell_type": "code",
   "execution_count": 58,
   "id": "c13b2c79-5ad8-46d6-9a87-f53562057b1d",
   "metadata": {},
   "outputs": [],
   "source": [
    "# result , email_data = M.fetch(email_id, '(RFC822)')"
   ]
  },
  {
   "cell_type": "code",
   "execution_count": 60,
   "id": "952eff62-427f-4a3c-b1ce-697048729ef0",
   "metadata": {},
   "outputs": [],
   "source": [
    "# email_data"
   ]
  },
  {
   "cell_type": "code",
   "execution_count": 62,
   "id": "cf0bc690-7f93-430b-b572-2ff9529b1df4",
   "metadata": {},
   "outputs": [],
   "source": [
    "# raw_email = email_data[0][1]"
   ]
  },
  {
   "cell_type": "code",
   "execution_count": 64,
   "id": "cd0c89f2-d0d9-4062-9c60-3377246fb48f",
   "metadata": {},
   "outputs": [],
   "source": [
    "# raw_email_string = raw_email.decode('utf-8')"
   ]
  },
  {
   "cell_type": "code",
   "execution_count": 66,
   "id": "240c37fa-ae77-4031-b48b-b0549228aa02",
   "metadata": {},
   "outputs": [],
   "source": [
    "import email"
   ]
  },
  {
   "cell_type": "code",
   "execution_count": 68,
   "id": "8800f00f-b86c-4d3d-9b52-080665c1eaf8",
   "metadata": {},
   "outputs": [],
   "source": [
    "# email_message = email.message_from_string(raw_email_string)"
   ]
  },
  {
   "cell_type": "code",
   "execution_count": 70,
   "id": "5a0a9a86-84f0-4255-9e41-8831c745abcf",
   "metadata": {},
   "outputs": [],
   "source": [
    "# email_message"
   ]
  },
  {
   "cell_type": "code",
   "execution_count": 72,
   "id": "74f737ce-2f40-4194-931d-e36e650cea1e",
   "metadata": {},
   "outputs": [],
   "source": [
    "# for part in email_message.walk():\n",
    "\n",
    "#     if part.get_content_type() == 'text/plain':\n",
    "#         body = part.get_payload(decode=True)\n",
    "#         print(body)"
   ]
  },
  {
   "cell_type": "code",
   "execution_count": 74,
   "id": "d4f0341a-9d38-403f-ac8c-34ae9cf1e151",
   "metadata": {},
   "outputs": [],
   "source": [
    "# for part in email_message.walk():\n",
    "\n",
    "#     if part.get_content_type() == 'text/html':\n",
    "#         body = part.get_payload(decode=True)\n",
    "#         print(body)"
   ]
  },
  {
   "cell_type": "code",
   "execution_count": null,
   "id": "c3febd17-d3ec-46aa-a0a6-87e276e08661",
   "metadata": {},
   "outputs": [],
   "source": []
  }
 ],
 "metadata": {
  "kernelspec": {
   "display_name": "Python [conda env:base] *",
   "language": "python",
   "name": "conda-base-py"
  },
  "language_info": {
   "codemirror_mode": {
    "name": "ipython",
    "version": 3
   },
   "file_extension": ".py",
   "mimetype": "text/x-python",
   "name": "python",
   "nbconvert_exporter": "python",
   "pygments_lexer": "ipython3",
   "version": "3.12.7"
  }
 },
 "nbformat": 4,
 "nbformat_minor": 5
}
